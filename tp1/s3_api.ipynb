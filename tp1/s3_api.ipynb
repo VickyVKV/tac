{
 "cells": [
  {
   "cell_type": "markdown",
   "metadata": {},
   "source": [
    "# APIs: requêtes HTTP"
   ]
  },
  {
   "cell_type": "markdown",
   "metadata": {},
   "source": [
    "## Imports"
   ]
  },
  {
   "cell_type": "code",
   "execution_count": 13,
   "metadata": {},
   "outputs": [],
   "source": [
    "import json\n",
    "import requests"
   ]
  },
  {
   "cell_type": "markdown",
   "metadata": {},
   "source": [
    "## Utiliser [newscatcher](https://newscatcherapi.com/) pour extraire les derniers articles sur un sujet"
   ]
  },
  {
   "cell_type": "code",
   "execution_count": 63,
   "metadata": {},
   "outputs": [
    {
     "name": "stdout",
     "output_type": "stream",
     "text": [
      "{\"status\":\"ok\",\"total_hits\":2,\"page\":1,\"total_pages\":1,\"page_size\":2,\"articles\":[{\"title\":\"Guerre en Ukraine: d\\u00e9but des \\u00e9vacuations de civils \\u00e0 Kherson\",\"author\":\"Par Le Soir\",\"published_date\":\"2022-10-19 07:47:26\",\"published_date_precision\":\"full\",\"link\":\"https://www.lesoir.be/472087/article/2022-10-19/guerre-en-ukraine-ladministration-doccupation-russe-evacue-kherson\",\"clean_url\":\"lesoir.be\",\"excerpt\":\"La situation est \\u00ab tendue \\u00bb pour l'arm\\u00e9e russe, a admis un haut responsable russe. Mais la Russie n'a pas perdu tout son mordant, puisqu'elle a de nouveau bombard\\u00e9 des points strat\\u00e9giques ukrainiens\\u2026\",\"summary\":\"Les autorit\\u00e9s d'occupation russes dans la r\\u00e9gion de Kherson, dans le sud de l'Ukraine, ont indiqu\\u00e9 mercredi que les \\u00e9vacuations de civils avaient commenc\\u00e9 sur place, face \\u00e0 l'avanc\\u00e9e des troupes ukrainiennes. \\u00ab\\u00a0Le transfert organis\\u00e9 des habitants vers l'autre rive du Dniepr a commenc\\u00e9 \\u00e0 Kherson\\u00a0\\u00bb, a indiqu\\u00e9 sur Telegram l'administration d'occupation de la ville d'Olechky, \\u00e0 l'est de Kherson. La cha\\u00eene russe Rossiya 24 a par ailleurs diffus\\u00e9 un reportage montrant des personnes \\u00e9vacu\\u00e9es prenant place \\u00e0 bord de ferrys pour traverser le fleuve.\",\"rights\":\"lesoir.be\",\"rank\":5173,\"topic\":\"news\",\"country\":\"BE\",\"language\":\"fr\",\"authors\":\"Par Le Soir\",\"media\":\"https://www.lesoir.be/sites/default/files/dpistyles_v2/ena_16_9_extra_big/2022/10/19/node_472087/29543255/public/2022/10/19/B9732437164Z.1_20221019094726_000+G64LFNPA5.2-0.jpg?itok=3XYQMFYw1666169021\",\"is_opinion\":false,\"twitter_account\":\"@lesoir\",\"_score\":21.087557,\"_id\":\"fb786fc7bc98693c2b64bdbf304af165\"},{\"title\":\"Guerre en Ukraine: situation \\u00abtendue\\u00bb pour la Russie, qui veut \\u00e9vacuer 50.000 civils\",\"author\":\"Par Le Soir\",\"published_date\":\"2022-10-19 07:47:26\",\"published_date_precision\":\"full\",\"link\":\"https://www.lesoir.be/472087/article/2022-10-19/guerre-en-ukraine-situation-tendue-pour-la-russie-qui-veut-evacuer-50000-civils\",\"clean_url\":\"lesoir.be\",\"excerpt\":\"La situation est \\u00ab tendue \\u00bb pour l'arm\\u00e9e russe, a admis un haut responsable russe. Mais la Russie n'a pas perdu tout son mordant, puisqu'elle a de nouveau bombard\\u00e9 des points strat\\u00e9giques ukrainiens\\u2026\",\"summary\":\"La Russie s'appr\\u00eate \\u00e0 \\u00e9vacuer la population de Kherson, ville du sud de l'Ukraine o\\u00f9 ses troupes sont confront\\u00e9es \\u00e0 une situation particuli\\u00e8rement \\u00ab\\u00a0tendue\\u00a0\\u00bb face \\u00e0 la contre-offensive de Kiev, qui a d\\u00e9nonc\\u00e9 les nombreuses frappes ayant de nouveau vis\\u00e9 mardi ses infrastructures \\u00e9nerg\\u00e9tiques. Le g\\u00e9n\\u00e9ral russe Sergue\\u00ef Sourovikine, charg\\u00e9 des op\\u00e9rations en Ukraine depuis dix jours, a affirm\\u00e9 sur la cha\\u00eene Rossiya 24 que l'arm\\u00e9e russe allait \\u00ab\\u00a0assurer avant tout l'\\u00e9vacuation s\\u00e9curis\\u00e9e de la population\\u00a0\\u00bb de Kherson.\",\"rights\":\"lesoir.be\",\"rank\":5173,\"topic\":\"news\",\"country\":\"BE\",\"language\":\"fr\",\"authors\":\"Par Le Soir\",\"media\":\"https://www.lesoir.be/sites/default/files/dpistyles_v2/ena_16_9_extra_big/2022/10/19/node_472087/29543255/public/2022/10/19/B9732437164Z.1_20221019094726_000+G64LFNPA5.2-0.jpg?itok=3XYQMFYw1666165653\",\"is_opinion\":false,\"twitter_account\":\"@lesoir\",\"_score\":20.984928,\"_id\":\"ff1f9fe52c394bb4273c9c8b35071d8d\"}],\"user_input\":{\"q\":\"\\\"Technologie\\\"\",\"search_in\":[\"title_summary\"],\"lang\":[\"fr\"],\"not_lang\":null,\"countries\":[\"BE\"],\"not_countries\":null,\"from\":\"2022-10-13 00:00:00\",\"to\":null,\"ranked_only\":\"True\",\"from_rank\":null,\"to_rank\":null,\"sort_by\":\"relevancy\",\"page\":1,\"size\":50,\"sources\":null,\"not_sources\":null,\"topic\":null,\"published_date_precision\":null,\"author\":\"Le soir\"}}\n",
      "\n"
     ]
    }
   ],
   "source": [
    "\n",
    "url = \"https://api.newscatcherapi.com/v2/search\"\n",
    "headers = {\n",
    "    \"x-api-key\": \"-RQgIZEeSh6EOhEnmaNE0JUv4VfZm4VQuQkTqjxtqrM\"\n",
    "    }\n",
    "querystring = {\"q\":\"\\\"Technologie\\\"\",\"lang\":\"fr\", \"countries\":\"be\", \"author\":\"Le soir\", \"sort_by\":\"relevancy\",\"page\":\"1\"}\n",
    "\n",
    "response = requests.request(\"GET\", url, headers=headers, params=querystring)\n",
    "print(response.text)"
   ]
  }
 ],
 "metadata": {
  "kernelspec": {
   "display_name": "Python 3.10.7 ('tac_venv': venv)",
   "language": "python",
   "name": "python3"
  },
  "language_info": {
   "codemirror_mode": {
    "name": "ipython",
    "version": 3
   },
   "file_extension": ".py",
   "mimetype": "text/x-python",
   "name": "python",
   "nbconvert_exporter": "python",
   "pygments_lexer": "ipython3",
   "version": "3.10.7"
  },
  "vscode": {
   "interpreter": {
    "hash": "784c7c2293285d313ce3b824e818eddf5916df94f11545eeca142f77bbac1d94"
   }
  }
 },
 "nbformat": 4,
 "nbformat_minor": 4
}
