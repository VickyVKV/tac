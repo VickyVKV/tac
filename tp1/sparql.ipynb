{
 "cells": [
  {
   "cell_type": "markdown",
   "metadata": {},
   "source": [
    "# Bases de connaissance : interroger Wikidata à l'aide de requêtes SPARQL"
   ]
  },
  {
   "cell_type": "markdown",
   "metadata": {},
   "source": [
    "## Imports"
   ]
  },
  {
   "cell_type": "code",
   "execution_count": 15,
   "metadata": {},
   "outputs": [],
   "source": [
    "from datetime import datetime as dt\n",
    "from SPARQLWrapper import SPARQLWrapper, JSON"
   ]
  },
  {
   "cell_type": "markdown",
   "metadata": {},
   "source": [
    "## Obtenir la liste des femmes journalistes belges"
   ]
  },
  {
   "cell_type": "code",
   "execution_count": 30,
   "metadata": {},
   "outputs": [
    {
     "name": "stdout",
     "output_type": "stream",
     "text": [
      "\n",
      "63 Women Belgian journalists found\n",
      "\n",
      "[{'person': {'type': 'uri', 'value': 'http://www.wikidata.org/entity/Q109768221'}, 'personLabel': {'xml:lang': 'en', 'type': 'literal', 'value': 'Aliénor Debrocq'}, 'dateBirth': {'datatype': 'http://www.w3.org/2001/XMLSchema#dateTime', 'type': 'literal', 'value': '1983-01-01T00:00:00Z'}, 'lang': {'type': 'uri', 'value': 'http://www.wikidata.org/entity/Q150'}}, {'person': {'type': 'uri', 'value': 'http://www.wikidata.org/entity/Q66360955'}, 'personLabel': {'xml:lang': 'en', 'type': 'literal', 'value': 'An Brouckmans'}, 'dateBirth': {'datatype': 'http://www.w3.org/2001/XMLSchema#dateTime', 'type': 'literal', 'value': '1958-03-24T00:00:00Z'}, 'lang': {'type': 'uri', 'value': 'http://www.wikidata.org/entity/Q7411'}}, {'person': {'type': 'uri', 'value': 'http://www.wikidata.org/entity/Q38554458'}, 'personLabel': {'xml:lang': 'en', 'type': 'literal', 'value': 'An Goovaerts'}, 'dateBirth': {'datatype': 'http://www.w3.org/2001/XMLSchema#dateTime', 'type': 'literal', 'value': '1977-01-01T00:00:00Z'}, 'lang': {'type': 'uri', 'value': 'http://www.wikidata.org/entity/Q7411'}}, {'person': {'type': 'uri', 'value': 'http://www.wikidata.org/entity/Q41799433'}, 'personLabel': {'xml:lang': 'en', 'type': 'literal', 'value': 'Anne Defraiteur Nicoleau'}, 'dateBirth': {'datatype': 'http://www.w3.org/2001/XMLSchema#dateTime', 'type': 'literal', 'value': '1972-02-28T00:00:00Z'}, 'lang': {'type': 'uri', 'value': 'http://www.wikidata.org/entity/Q150'}}, {'person': {'type': 'uri', 'value': 'http://www.wikidata.org/entity/Q4703913'}, 'personLabel': {'xml:lang': 'en', 'type': 'literal', 'value': 'Annemie Peeters'}, 'dateBirth': {'datatype': 'http://www.w3.org/2001/XMLSchema#dateTime', 'type': 'literal', 'value': '1960-01-01T00:00:00Z'}, 'lang': {'type': 'uri', 'value': 'http://www.wikidata.org/entity/Q7411'}}, {'person': {'type': 'uri', 'value': 'http://www.wikidata.org/entity/Q2744168'}, 'personLabel': {'xml:lang': 'en', 'type': 'literal', 'value': 'Ariane Le Fort'}, 'dateBirth': {'datatype': 'http://www.w3.org/2001/XMLSchema#dateTime', 'type': 'literal', 'value': '1960-06-18T00:00:00Z'}, 'lang': {'type': 'uri', 'value': 'http://www.wikidata.org/entity/Q150'}}, {'person': {'type': 'uri', 'value': 'http://www.wikidata.org/entity/Q58765425'}, 'personLabel': {'xml:lang': 'en', 'type': 'literal', 'value': 'Bregje Hofstede'}, 'dateBirth': {'datatype': 'http://www.w3.org/2001/XMLSchema#dateTime', 'type': 'literal', 'value': '1988-01-01T00:00:00Z'}, 'lang': {'type': 'uri', 'value': 'http://www.wikidata.org/entity/Q7411'}}, {'person': {'type': 'uri', 'value': 'http://www.wikidata.org/entity/Q2124243'}, 'personLabel': {'xml:lang': 'en', 'type': 'literal', 'value': 'Brigitte Raskin'}, 'dateBirth': {'datatype': 'http://www.w3.org/2001/XMLSchema#dateTime', 'type': 'literal', 'value': '1947-07-25T00:00:00Z'}, 'lang': {'type': 'uri', 'value': 'http://www.wikidata.org/entity/Q7411'}}, {'person': {'type': 'uri', 'value': 'http://www.wikidata.org/entity/Q2351984'}, 'personLabel': {'xml:lang': 'en', 'type': 'literal', 'value': 'Béatrice Delvaux'}, 'dateBirth': {'datatype': 'http://www.w3.org/2001/XMLSchema#dateTime', 'type': 'literal', 'value': '1960-09-30T00:00:00Z'}, 'lang': {'type': 'uri', 'value': 'http://www.wikidata.org/entity/Q150'}}, {'person': {'type': 'uri', 'value': 'http://www.wikidata.org/entity/Q2392552'}, 'personLabel': {'xml:lang': 'en', 'type': 'literal', 'value': 'Caroline Boussart'}, 'dateBirth': {'datatype': 'http://www.w3.org/2001/XMLSchema#dateTime', 'type': 'literal', 'value': '1808-12-12T00:00:00Z'}, 'lang': {'type': 'uri', 'value': 'http://www.wikidata.org/entity/Q150'}, 'dateDeath': {'datatype': 'http://www.w3.org/2001/XMLSchema#dateTime', 'type': 'literal', 'value': '1891-12-02T00:00:00Z'}}]\n"
     ]
    }
   ],
   "source": [
    "# Retrieve results from SPARQL\n",
    "endpoint = \"https://query.wikidata.org/bigdata/namespace/wdq/sparql\"\n",
    "sparql = SPARQLWrapper(endpoint)\n",
    "\n",
    "# P27 = country of citizenship \n",
    "# Q31 = Belgium\n",
    "# P21 = gender\n",
    "# Q6581072 = female\n",
    "# P106 = Opccupation\n",
    "# Q1930187 = Journalist\n",
    "# P569 = date of birth\n",
    "# P570 = date of death\n",
    "# P1412 = language\n",
    "\n",
    "statement = \"\"\"\n",
    "SELECT DISTINCT ?person ?personLabel ?dateBirth ?dateDeath ?lang WHERE {\n",
    "    ?person wdt:P27 wd:Q31 .\n",
    "    ?person wdt:P21 wd:Q6581072.\n",
    "    ?person wdt:P106 wd:Q1930187 .\n",
    "    ?person wdt:P1412 ?lang .\n",
    "    ?person wdt:P569 ?dateBirth .\n",
    "    OPTIONAL {?person wdt:P570 ?dateDeath .}\n",
    "    SERVICE wikibase:label { bd:serviceParam wikibase:language \"en\" . }\n",
    "}\n",
    "ORDER BY ?personLabel\n",
    "\"\"\"\n",
    "\n",
    "sparql.setQuery(statement)\n",
    "sparql.setReturnFormat(JSON)\n",
    "results = sparql.query().convert()\n",
    "\n",
    "rows = results['results']['bindings']\n",
    "print(f\"\\n{len(rows)} Women Belgian journalists found\\n\")\n",
    "print(rows[:10])"
   ]
  },
  {
   "cell_type": "markdown",
   "metadata": {},
   "source": [
    "## Filtrer pour n'afficher que les noms des journalistes parlant Français"
   ]
  },
  {
   "cell_type": "code",
   "execution_count": 38,
   "metadata": {},
   "outputs": [
    {
     "name": "stdout",
     "output_type": "stream",
     "text": [
      "Les journalistes parlant français, 20 résultats max :\n",
      "\n",
      "Aliénor Debrocq (1983-)\n",
      "Anne Defraiteur Nicoleau (1972-)\n",
      "Ariane Le Fort (1960-)\n",
      "Béatrice Delvaux (1960-)\n",
      "Caroline Boussart (1808-1891)\n",
      "Charline Vanhoenacker (1977-)\n",
      "Christine Aventin (1971-)\n",
      "Christine Ockrent (1944-)\n",
      "Colette Braeckman (1946-)\n",
      "Dominique Costermans (1962-)\n",
      "Elisa Brune (1966-2018)\n",
      "Fatoumata Sidibé (1963-)\n",
      "Hadja Lahbib (1970-)\n",
      "Huguette de Broqueville (1931-2015)\n",
      "Isabelle Spaak (1960-)\n",
      "Jeanne Cappe (1895-1956)\n",
      "Johanna Spaey (1966-)\n",
      "Louise-Marie Danhaive (1923-1978)\n",
      "Marie-Pascale Osterrieth (1956-)\n",
      "Marie-Pascale Osterrieth (1956-)\n"
     ]
    }
   ],
   "source": [
    "language_filter = 'Q150'\n",
    "max_results = 20\n",
    "\n",
    "date_format = \"%Y-%m-%dT%H:%M:%SZ\"\n",
    "filtered_rows = [row for row in rows if language_filter in row['lang']['value']]\n",
    "print(f\"Les journalistes parlant français, {max_results} résultats max :\\n\")\n",
    "for row in filtered_rows[:max_results]:\n",
    "    try:\n",
    "        birth_date = dt.strptime(row['dateBirth']['value'], date_format)\n",
    "        birth_year = birth_date.year\n",
    "    except ValueError:\n",
    "        birth_year = \"????\"\n",
    "    try:\n",
    "        death_date = dt.strptime(row['dateDeath']['value'], date_format)\n",
    "        death_year = death_date.year\n",
    "    except ValueError: # unknown death date\n",
    "        death_year = \"????\"\n",
    "    except KeyError: # still alive\n",
    "        death_year = \"\"\n",
    "    print(f\"{row['personLabel']['value']} ({birth_year}-{death_year})\")"
   ]
  },
  {
   "cell_type": "markdown",
   "metadata": {},
   "source": [
    "## Pour en savoir plus"
   ]
  },
  {
   "cell_type": "markdown",
   "metadata": {},
   "source": [
    "- [Le projet Wikidata](https://www.wikidata.org/wiki/Wikidata:Main_Page)\n",
    "- [Aide à la construction de requêtes](https://query.wikidata.org/)"
   ]
  }
 ],
 "metadata": {
  "kernelspec": {
   "display_name": "Python 3.10.7 ('tac_venv': venv)",
   "language": "python",
   "name": "python3"
  },
  "language_info": {
   "codemirror_mode": {
    "name": "ipython",
    "version": 3
   },
   "file_extension": ".py",
   "mimetype": "text/x-python",
   "name": "python",
   "nbconvert_exporter": "python",
   "pygments_lexer": "ipython3",
   "version": "3.10.7"
  },
  "vscode": {
   "interpreter": {
    "hash": "784c7c2293285d313ce3b824e818eddf5916df94f11545eeca142f77bbac1d94"
   }
  }
 },
 "nbformat": 4,
 "nbformat_minor": 4
}
