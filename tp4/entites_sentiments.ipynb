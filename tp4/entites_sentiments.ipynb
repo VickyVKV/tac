{
 "cells": [
  {
   "cell_type": "markdown",
   "metadata": {},
   "source": [
    "# Entités et sentiments"
   ]
  },
  {
   "cell_type": "markdown",
   "metadata": {},
   "source": [
    "## Imports"
   ]
  },
  {
   "cell_type": "code",
   "execution_count": 31,
   "metadata": {},
   "outputs": [],
   "source": [
    "from collections import defaultdict\n",
    "import sys\n",
    "import spacy\n",
    "from spacy.lang.fr.examples import sentences\n",
    "\n",
    "import sys\n",
    "from textblob import Blobber\n",
    "from textblob_fr import PatternTagger, PatternAnalyzer"
   ]
  },
  {
   "cell_type": "markdown",
   "metadata": {},
   "source": [
    "# Reconnaissance d'entités nommées avec SpaCy"
   ]
  },
  {
   "cell_type": "code",
   "execution_count": 2,
   "metadata": {},
   "outputs": [],
   "source": [
    "nlp = spacy.load('fr_core_news_md')"
   ]
  },
  {
   "cell_type": "code",
   "execution_count": 21,
   "metadata": {},
   "outputs": [],
   "source": [
    "# Charger le texte\n",
    "n=9000\n",
    "text = open(\"../tp4/data/tmp/protection.txt\", encoding='utf-8').read()[:n]"
   ]
  },
  {
   "cell_type": "markdown",
   "metadata": {},
   "source": [
    "## Lister les personnes les plus mentionnées dans le corpus"
   ]
  },
  {
   "cell_type": "code",
   "execution_count": 22,
   "metadata": {},
   "outputs": [
    {
     "name": "stdout",
     "output_type": "stream",
     "text": [
      "CPU times: total: 266 ms\n",
      "Wall time: 301 ms\n"
     ]
    }
   ],
   "source": [
    "%%time\n",
    "# Traiter le texte\n",
    "\n",
    "doc = nlp(text)"
   ]
  },
  {
   "cell_type": "code",
   "execution_count": 23,
   "metadata": {},
   "outputs": [],
   "source": [
    "# Compter les entités\n",
    "people = defaultdict(int)\n",
    "for ent in doc.ents:\n",
    "    if ent.label_ == \"PER\" and len(ent.text) > 3:\n",
    "        people[ent.text] += 1"
   ]
  },
  {
   "cell_type": "code",
   "execution_count": 24,
   "metadata": {},
   "outputs": [
    {
     "name": "stdout",
     "output_type": "stream",
     "text": [
      "B CAMARADE apparait 1 fois dans le corpus\n",
      "Ides L apparait 1 fois dans le corpus\n",
      "M. le ministre des Affaires étrangères apparait 1 fois dans le corpus\n",
      "MM. T&choiffen apparait 1 fois dans le corpus\n",
      "Theunis apparait 1 fois dans le corpus\n",
      "M. Max apparait 1 fois dans le corpus\n",
      "baron Ruzette apparait 1 fois dans le corpus\n",
      "LE SUCCESSEUR DE apparait 1 fois dans le corpus\n"
     ]
    }
   ],
   "source": [
    "# Trier et imprimer\n",
    "\n",
    "sorted_people = sorted(people.items(), key=lambda kv: kv[1], reverse=True)\n",
    "\n",
    "for person, freq in sorted_people[:50]:\n",
    "    print(f\"{person} apparait {freq} fois dans le corpus\")"
   ]
  },
  {
   "cell_type": "markdown",
   "metadata": {},
   "source": [
    "## Lister les lieux les plus mentionnées dans le corpus"
   ]
  },
  {
   "cell_type": "code",
   "execution_count": 25,
   "metadata": {},
   "outputs": [
    {
     "name": "stdout",
     "output_type": "stream",
     "text": [
      "CPU times: total: 281 ms\n",
      "Wall time: 285 ms\n"
     ]
    }
   ],
   "source": [
    "%%time\n",
    "# Traiter le texte\n",
    "\n",
    "doc = nlp(text)"
   ]
  },
  {
   "cell_type": "code",
   "execution_count": 26,
   "metadata": {},
   "outputs": [],
   "source": [
    "# Compter les entités\n",
    "location = defaultdict(int)\n",
    "for ent in doc.ents:\n",
    "    if ent.label_ == \"LOC\" and len(ent.text) > 3:\n",
    "        location[ent.text] += 1"
   ]
  },
  {
   "cell_type": "code",
   "execution_count": 27,
   "metadata": {},
   "outputs": [
    {
     "name": "stdout",
     "output_type": "stream",
     "text": [
      "Londres apparait 3 fois dans le corpus\n",
      "Bruxelles apparait 2 fois dans le corpus\n",
      "France apparait 2 fois dans le corpus\n",
      "Everaert apparait 1 fois dans le corpus\n",
      "rue Blaes apparait 1 fois dans le corpus\n",
      "Suissesses apparait 1 fois dans le corpus\n",
      "Noue apparait 1 fois dans le corpus\n",
      "satinn apparait 1 fois dans le corpus\n",
      "de Belgique apparait 1 fois dans le corpus\n",
      "Belga apparait 1 fois dans le corpus\n",
      "Clyde apparait 1 fois dans le corpus\n",
      "Yflielont apparait 1 fois dans le corpus\n",
      "Huilera apparait 1 fois dans le corpus\n",
      "Paris apparait 1 fois dans le corpus\n",
      "Chemins à^ apparait 1 fois dans le corpus\n",
      "Grand-Duché de Luxembourg apparait 1 fois dans le corpus\n",
      "Société Prince-Henri apparait 1 fois dans le corpus\n",
      "Etat luxembourgeois apparait 1 fois dans le corpus\n",
      "UNE EXPOSITION EN 1930 apparait 1 fois dans le corpus\n",
      "province d'Anvers apparait 1 fois dans le corpus\n",
      "Bruxelles-Anvers apparait 1 fois dans le corpus\n"
     ]
    }
   ],
   "source": [
    "# Trier et imprimer\n",
    "\n",
    "sorted_location = sorted(location.items(), key=lambda kv: kv[1], reverse=True)\n",
    "\n",
    "for entities, freq in sorted_location[:50]:\n",
    "    print(f\"{entities} apparait {freq} fois dans le corpus\")\n",
    "    "
   ]
  },
  {
   "cell_type": "markdown",
   "metadata": {},
   "source": [
    "## Lister les organisations les plus mentionnées dans le corpus"
   ]
  },
  {
   "cell_type": "code",
   "execution_count": 28,
   "metadata": {},
   "outputs": [
    {
     "name": "stdout",
     "output_type": "stream",
     "text": [
      "CPU times: total: 500 ms\n",
      "Wall time: 559 ms\n"
     ]
    }
   ],
   "source": [
    "%%time\n",
    "# Traiter le texte\n",
    "\n",
    "doc = nlp(text)"
   ]
  },
  {
   "cell_type": "code",
   "execution_count": 29,
   "metadata": {},
   "outputs": [],
   "source": [
    "# Compter les entités\n",
    "organisation = defaultdict(int)\n",
    "for ent in doc.ents:\n",
    "    if ent.label_ == \"ORG\" and len(ent.text) > 3:\n",
    "        organisation[ent.text] += 1"
   ]
  },
  {
   "cell_type": "code",
   "execution_count": 30,
   "metadata": {},
   "outputs": [
    {
     "name": "stdout",
     "output_type": "stream",
     "text": [
      "Conseil apparait 5 fois dans le corpus\n",
      "Comité apparait 2 fois dans le corpus\n",
      "Reuter apparait 2 fois dans le corpus\n",
      "La Société « La Chaussure apparait 1 fois dans le corpus\n",
      "Direction _ do la Société « La Chaussure apparait 1 fois dans le corpus\n",
      "Syndicat des Employés apparait 1 fois dans le corpus\n",
      "Section do Bruxelles' de la Centrale des Cuira et Peaux apparait 1 fois dans le corpus\n",
      "Syndicat des Cuirs et Peaux apparait 1 fois dans le corpus\n",
      "A LA apparait 1 fois dans le corpus\n",
      "ANGLETERRE apparait 1 fois dans le corpus\n",
      "Havas apparait 1 fois dans le corpus\n",
      "Cabinet Le Conseil apparait 1 fois dans le corpus\n",
      "Chambre apparait 1 fois dans le corpus\n",
      "ministre des Travaux apparait 1 fois dans le corpus\n"
     ]
    }
   ],
   "source": [
    "# Trier et imprimer\n",
    "\n",
    "sorted_organisation = sorted(organisation.items(), key=lambda kv: kv[1], reverse=True)\n",
    "\n",
    "for orga, freq in sorted_organisation[:50]:\n",
    "    print(f\"{orga} apparait {freq} fois dans le corpus\")\n",
    "    "
   ]
  },
  {
   "cell_type": "markdown",
   "metadata": {},
   "source": [
    "# Sentiment analysis"
   ]
  },
  {
   "cell_type": "code",
   "execution_count": 32,
   "metadata": {},
   "outputs": [],
   "source": [
    "tb = Blobber(pos_tagger=PatternTagger(), analyzer=PatternAnalyzer())\n",
    "\n",
    "def get_sentiment(input_text):\n",
    "    blob = tb(input_text)\n",
    "    polarity, subjectivity = blob.sentiment\n",
    "    polarity_perc = f\"{100*abs(polarity):.0f}\"\n",
    "    subjectivity_perc = f\"{100*subjectivity:.0f}\"\n",
    "    if polarity > 0:\n",
    "        polarity_str = f\"{polarity_perc}% positive\"\n",
    "    elif polarity < 0:\n",
    "        polarity_str = f\"{polarity_perc}% negative\"\n",
    "    else:\n",
    "        polarity_str = \"neutral\"\n",
    "    if subjectivity > 0:\n",
    "        subjectivity_str = f\"{subjectivity}% subjective\"\n",
    "    else:\n",
    "        subjectivity_str = \"perfectly objective\"\n",
    "    print(f\"This text is {polarity_str} and {subjectivity_str}.\")"
   ]
  },
  {
   "cell_type": "markdown",
   "metadata": {},
   "source": [
    "## Analyser le sentiment d'une phrase"
   ]
  },
  {
   "cell_type": "code",
   "execution_count": 33,
   "metadata": {},
   "outputs": [
    {
     "name": "stdout",
     "output_type": "stream",
     "text": [
      "This text is 18% positive and 0.33999999999999997% subjective.\n"
     ]
    }
   ],
   "source": [
    "get_sentiment(\"Le but de la commission, nommée sur la demande des Amis des bêtes, est d'étudier des lois relatives aux expériences faites sur les animaux vivants et les moyens d'empêcher la vivisection.\")"
   ]
  },
  {
   "cell_type": "code",
   "execution_count": 35,
   "metadata": {},
   "outputs": [
    {
     "name": "stdout",
     "output_type": "stream",
     "text": [
      "This text is 12% negative and 0.3333333333333333% subjective.\n"
     ]
    }
   ],
   "source": [
    "get_sentiment(\"La Société Royale prolectrice des animaux, estimant que les mauvais traitements infligés aux bêtes, sont, la plupart du temps, imputables a un défaut d'éducation, a décidé d'orienter; tout d'abord, sa propagande vers la formation morale des enfants fréquentant les écoles primaires.\")"
   ]
  },
  {
   "cell_type": "code",
   "execution_count": 36,
   "metadata": {},
   "outputs": [
    {
     "name": "stdout",
     "output_type": "stream",
     "text": [
      "This text is neutral and perfectly objective.\n"
     ]
    }
   ],
   "source": [
    "get_sentiment(\"La 6e assemblée fédérale des sociétés belges contre les cruautés envers les animaux se tiendra à Charleroi, dimanche, à 10 heures du matin, en l'auditoire de l'Université du Travail.\")"
   ]
  },
  {
   "cell_type": "code",
   "execution_count": 37,
   "metadata": {},
   "outputs": [
    {
     "name": "stdout",
     "output_type": "stream",
     "text": [
      "This text is neutral and 0.15% subjective.\n"
     ]
    }
   ],
   "source": [
    "get_sentiment(\"Le Sénat prend en considération une proposition de M. Asou, relative à la protection des animaux.\")"
   ]
  },
  {
   "cell_type": "code",
   "execution_count": 38,
   "metadata": {},
   "outputs": [
    {
     "name": "stdout",
     "output_type": "stream",
     "text": [
      "This text is neutral and perfectly objective.\n"
     ]
    }
   ],
   "source": [
    "get_sentiment(\"La Société protectrice des animaux vient de faire parvenir à soixante écoles du Bassin un paquet de calendriers et de brochures concernant la protection des animaux.\")"
   ]
  },
  {
   "cell_type": "code",
   "execution_count": 39,
   "metadata": {},
   "outputs": [
    {
     "name": "stdout",
     "output_type": "stream",
     "text": [
      "This text is 40% negative and 0.2% subjective.\n"
     ]
    }
   ],
   "source": [
    "get_sentiment(\"nous avons parlé d'un cheval atteint de quatre fistules purulentes qui nous était passé par les mains et que nous avions, dû, malheureusement; rélâcher faute d'avoir été convenablement secondés.\")"
   ]
  },
  {
   "cell_type": "code",
   "execution_count": 40,
   "metadata": {},
   "outputs": [
    {
     "name": "stdout",
     "output_type": "stream",
     "text": [
      "This text is neutral and perfectly objective.\n"
     ]
    }
   ],
   "source": [
    "get_sentiment(\" L'exagération dans la protection des animaux (Magrid)\")"
   ]
  },
  {
   "cell_type": "code",
   "execution_count": 41,
   "metadata": {},
   "outputs": [
    {
     "name": "stdout",
     "output_type": "stream",
     "text": [
      "This text is 20% positive and 0.2% subjective.\n"
     ]
    }
   ],
   "source": [
    "get_sentiment(\"M. KOCH demande qu'un crédit de 20,000 francs soit inscrit au budget comme subside pour la protection des animaux.\")"
   ]
  },
  {
   "cell_type": "code",
   "execution_count": 42,
   "metadata": {},
   "outputs": [
    {
     "name": "stdout",
     "output_type": "stream",
     "text": [
      "This text is 20% positive and 0.275% subjective.\n"
     ]
    }
   ],
   "source": [
    "get_sentiment(\"La Fédération des sociétés belges pour la protection des animaux vient d'adresser au Ministre île l'Intérieur une énergique protestation contre les parcours it allure libre inscrits au programme du Raid Hippique organisé du 2 au 7 août, par la société .\")"
   ]
  },
  {
   "cell_type": "code",
   "execution_count": 43,
   "metadata": {},
   "outputs": [
    {
     "name": "stdout",
     "output_type": "stream",
     "text": [
      "This text is 21% positive and 0.0875% subjective.\n"
     ]
    }
   ],
   "source": [
    "get_sentiment(\"Mardi, s’ouvrira au Foreign Office une importante conférence internationale destinée à concerter des mesures pour protéger les animaux utiles d’Afrique : éléphant», antilopes, buffles, etc.\")"
   ]
  }
 ],
 "metadata": {
  "kernelspec": {
   "display_name": "Python 3.10.7 64-bit",
   "language": "python",
   "name": "python3"
  },
  "language_info": {
   "codemirror_mode": {
    "name": "ipython",
    "version": 3
   },
   "file_extension": ".py",
   "mimetype": "text/x-python",
   "name": "python",
   "nbconvert_exporter": "python",
   "pygments_lexer": "ipython3",
   "version": "3.10.7"
  },
  "vscode": {
   "interpreter": {
    "hash": "369f2c481f4da34e4445cda3fffd2e751bd1c4d706f27375911949ba6bb62e1c"
   }
  }
 },
 "nbformat": 4,
 "nbformat_minor": 4
}
