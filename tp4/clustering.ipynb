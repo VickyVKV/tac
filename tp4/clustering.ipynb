{
 "cells": [
  {
   "cell_type": "markdown",
   "metadata": {},
   "source": [
    "# Clustering de documents"
   ]
  },
  {
   "cell_type": "markdown",
   "metadata": {},
   "source": [
    "## Imports"
   ]
  },
  {
   "cell_type": "code",
   "execution_count": 80,
   "metadata": {},
   "outputs": [],
   "source": [
    "import collections\n",
    "import os\n",
    "import string\n",
    "import sys\n",
    "\n",
    "import pandas as pd\n",
    "from nltk import word_tokenize\n",
    "from nltk.corpus import stopwords\n",
    "from pprint import pprint\n",
    "from sklearn.cluster import KMeans\n",
    "from sklearn.feature_extraction.text import TfidfVectorizer\n",
    "from sklearn.decomposition import PCA\n",
    "import numpy as np\n",
    "import matplotlib.pyplot as plt\n",
    "from scipy.spatial.distance import cosine"
   ]
  },
  {
   "cell_type": "code",
   "execution_count": 81,
   "metadata": {},
   "outputs": [
    {
     "name": "stderr",
     "output_type": "stream",
     "text": [
      "[nltk_data] Downloading package punkt to\n",
      "[nltk_data]     C:\\Users\\vkvvi\\AppData\\Roaming\\nltk_data...\n",
      "[nltk_data]   Package punkt is already up-to-date!\n"
     ]
    },
    {
     "data": {
      "text/plain": [
       "True"
      ]
     },
     "execution_count": 81,
     "metadata": {},
     "output_type": "execute_result"
    }
   ],
   "source": [
    "import nltk\n",
    "\n",
    "nltk.download('punkt')"
   ]
  },
  {
   "cell_type": "code",
   "execution_count": 82,
   "metadata": {},
   "outputs": [],
   "source": [
    "data_path = \"../tp4/data/txt/\""
   ]
  },
  {
   "cell_type": "markdown",
   "metadata": {},
   "source": [
    "## Choisir une décennie"
   ]
  },
  {
   "cell_type": "code",
   "execution_count": 83,
   "metadata": {},
   "outputs": [],
   "source": [
    "DECADE = '1950'"
   ]
  },
  {
   "cell_type": "markdown",
   "metadata": {},
   "source": [
    "## Charger tous les  fichiers de la décennie et en créer une liste de textes"
   ]
  },
  {
   "cell_type": "code",
   "execution_count": 84,
   "metadata": {},
   "outputs": [],
   "source": [
    "files = [f for f in sorted(os.listdir(data_path))]"
   ]
  },
  {
   "cell_type": "code",
   "execution_count": 85,
   "metadata": {},
   "outputs": [
    {
     "data": {
      "text/plain": [
       "['KB_JB1051_1924-11-19_01-00002.txt',\n",
       " 'KB_JB1051_1925-07-19_01-00003.txt',\n",
       " 'KB_JB1051_1925-10-03_01-00004.txt',\n",
       " 'KB_JB1051_1925-11-03_01-00004.txt',\n",
       " 'KB_JB421_1900-03-26_01-00001.txt']"
      ]
     },
     "execution_count": 85,
     "metadata": {},
     "output_type": "execute_result"
    }
   ],
   "source": [
    "# Exemple de fichiers\n",
    "files[:5]"
   ]
  },
  {
   "cell_type": "code",
   "execution_count": 86,
   "metadata": {},
   "outputs": [],
   "source": [
    "texts = [open(data_path + f, \"r\", encoding=\"utf-8\").read() for f in files]"
   ]
  },
  {
   "cell_type": "code",
   "execution_count": 87,
   "metadata": {},
   "outputs": [
    {
     "data": {
      "text/plain": [
       "\"mmm me LE ORABEAU ROUGE La Bataille Ouvrière LA GREVE DE « LA CHAUSSURE v A FOREST Les ouvriwrei «t ouvriers continuent, avec la mutne unanimité «t la même volonté tenue de triompher, le mouvement déclenché par le patron. Nous pouvons même considérer que le terme « grève » ne s'applique pus exactement à ce mouvement. 11 s agit plutôt d'un « lock-out » puisque la Vï* rectum de La Société « La Chaus\""
      ]
     },
     "execution_count": 87,
     "metadata": {},
     "output_type": "execute_result"
    }
   ],
   "source": [
    "# Exemple de textes\n",
    "texts[0][:400]"
   ]
  },
  {
   "cell_type": "markdown",
   "metadata": {},
   "source": [
    "## Vectoriser les documents à l'aide de TF-IDF"
   ]
  },
  {
   "cell_type": "code",
   "execution_count": 88,
   "metadata": {},
   "outputs": [],
   "source": [
    "# Création d'une fonction de pré-traitement\n",
    "def preprocessing(text, stem=True):\n",
    "    \"\"\" Tokenize text and remove punctuation \"\"\"\n",
    "    text = text.translate(string.punctuation)\n",
    "    tokens = word_tokenize(text)\n",
    "    return tokens"
   ]
  },
  {
   "cell_type": "markdown",
   "metadata": {},
   "source": [
    "### Instancier le modèle TF-IDF avec ses arguments"
   ]
  },
  {
   "cell_type": "code",
   "execution_count": 89,
   "metadata": {},
   "outputs": [],
   "source": [
    "vectorizer = TfidfVectorizer(\n",
    "    tokenizer=preprocessing,\n",
    "    stop_words=stopwords.words('french'),\n",
    "    max_df=0.5,\n",
    "    min_df=0.1, #beaucoup donc on peut réduire\n",
    "    lowercase=True)"
   ]
  },
  {
   "cell_type": "markdown",
   "metadata": {},
   "source": [
    "### Construire la matrice de vecteurs à l'aide de la fonction `fit_transform`"
   ]
  },
  {
   "cell_type": "code",
   "execution_count": 90,
   "metadata": {},
   "outputs": [],
   "source": [
    "tfidf_vectors = vectorizer.fit_transform(texts)"
   ]
  },
  {
   "cell_type": "code",
   "execution_count": 91,
   "metadata": {},
   "outputs": [
    {
     "data": {
      "text/plain": [
       "(407, 3933)"
      ]
     },
     "execution_count": 91,
     "metadata": {},
     "output_type": "execute_result"
    }
   ],
   "source": [
    "# Détail de la matrice\n",
    "tfidf_vectors\n",
    "tfidf_vectors.shape"
   ]
  },
  {
   "cell_type": "markdown",
   "metadata": {},
   "source": [
    "### Imprimer le vecteur tf-IDF du premier document"
   ]
  },
  {
   "cell_type": "code",
   "execution_count": 92,
   "metadata": {},
   "outputs": [
    {
     "data": {
      "text/plain": [
       "syndicat    0.287496\n",
       "grève       0.172482\n",
       "statuts     0.170188\n",
       "sections    0.157402\n",
       "employés    0.153185\n",
       "              ...   \n",
       "farine      0.000000\n",
       "fasse       0.000000\n",
       "fatigue     0.000000\n",
       "faudra      0.000000\n",
       "♦           0.000000\n",
       "Length: 3933, dtype: float64"
      ]
     },
     "execution_count": 92,
     "metadata": {},
     "output_type": "execute_result"
    }
   ],
   "source": [
    "pd.Series(\n",
    "    tfidf_vectors[0].toarray()[0],\n",
    "    index=vectorizer.get_feature_names_out()\n",
    "    ).sort_values(ascending=False)"
   ]
  },
  {
   "cell_type": "markdown",
   "metadata": {},
   "source": [
    "## Comprendre les vecteurs et leurs \"distances\""
   ]
  },
  {
   "cell_type": "code",
   "execution_count": 93,
   "metadata": {},
   "outputs": [
    {
     "data": {
      "text/plain": [
       "0"
      ]
     },
     "execution_count": 93,
     "metadata": {},
     "output_type": "execute_result"
    }
   ],
   "source": [
    "cosine([1, 2, 3], [1, 2, 3])"
   ]
  },
  {
   "cell_type": "code",
   "execution_count": 94,
   "metadata": {},
   "outputs": [
    {
     "data": {
      "text/plain": [
       "0.02004211298777725"
      ]
     },
     "execution_count": 94,
     "metadata": {},
     "output_type": "execute_result"
    }
   ],
   "source": [
    "cosine([1, 2, 3], [1, 2, 2])"
   ]
  },
  {
   "cell_type": "code",
   "execution_count": 95,
   "metadata": {},
   "outputs": [
    {
     "data": {
      "text/plain": [
       "0.07417990022744858"
      ]
     },
     "execution_count": 95,
     "metadata": {},
     "output_type": "execute_result"
    }
   ],
   "source": [
    "cosine([1, 2, 3], [2, 2, 2])"
   ]
  },
  {
   "cell_type": "markdown",
   "metadata": {},
   "source": [
    "## Appliquer un algorithme de clustering sur les vecteurs TF-IDF des documents"
   ]
  },
  {
   "cell_type": "markdown",
   "metadata": {},
   "source": [
    "Pour en savoir plus sur le KMeans clustering :\n",
    "- https://medium.com/dataseries/k-means-clustering-explained-visually-in-5-minutes-b900cc69d175"
   ]
  },
  {
   "cell_type": "markdown",
   "metadata": {},
   "source": [
    "### Définir un nombre de clusters"
   ]
  },
  {
   "cell_type": "code",
   "execution_count": 96,
   "metadata": {},
   "outputs": [],
   "source": [
    "N_CLUSTERS = 3"
   ]
  },
  {
   "cell_type": "markdown",
   "metadata": {},
   "source": [
    "### Instancier le modèle K-Means et ses arguments"
   ]
  },
  {
   "cell_type": "code",
   "execution_count": 97,
   "metadata": {},
   "outputs": [],
   "source": [
    "km_model = KMeans(n_clusters=N_CLUSTERS)"
   ]
  },
  {
   "cell_type": "markdown",
   "metadata": {},
   "source": [
    "### Appliquer le clustering à l'aide de la fonction `fit_predict`"
   ]
  },
  {
   "cell_type": "code",
   "execution_count": 98,
   "metadata": {},
   "outputs": [],
   "source": [
    "clusters = km_model.fit_predict(tfidf_vectors)"
   ]
  },
  {
   "cell_type": "code",
   "execution_count": 99,
   "metadata": {},
   "outputs": [],
   "source": [
    "clustering = collections.defaultdict(list)\n",
    "\n",
    "for idx, label in enumerate(clusters):\n",
    "    clustering[label].append(files[idx])"
   ]
  },
  {
   "cell_type": "code",
   "execution_count": 100,
   "metadata": {},
   "outputs": [
    {
     "name": "stdout",
     "output_type": "stream",
     "text": [
      "{0: ['KB_JB685_1900-04-21_01-0001.txt',\n",
      "     'KB_JB685_1902-07-24_01-0001.txt',\n",
      "     'KB_JB685_1902-09-02_01-0001.txt',\n",
      "     'KB_JB685_1902-11-14_01-0001.txt',\n",
      "     'KB_JB685_1903-03-28_01-0001.txt',\n",
      "     'KB_JB685_1904-07-05_01-0002.txt',\n",
      "     'KB_JB685_1904-08-13_01-0002.txt',\n",
      "     'KB_JB685_1904-08-20_01-0003.txt',\n",
      "     'KB_JB685_1905-07-14_01-0002.txt',\n",
      "     'KB_JB685_1905-09-01_01-0002.txt',\n",
      "     'KB_JB685_1905-09-04_01-0002.txt',\n",
      "     'KB_JB685_1906-08-26_01-0002.txt',\n",
      "     'KB_JB685_1906-12-03_01-0002.txt',\n",
      "     'KB_JB685_1907-10-09_01-0003.txt',\n",
      "     'KB_JB685_1907-10-23_01-0003.txt',\n",
      "     'KB_JB685_1908-06-11_01-0001.txt',\n",
      "     'KB_JB685_1908-10-19_01-0002.txt',\n",
      "     'KB_JB685_1908-11-28_01-0002.txt',\n",
      "     'KB_JB685_1909-05-03_01-0001.txt',\n",
      "     'KB_JB685_1909-08-21_01-0001.txt',\n",
      "     'KB_JB685_1909-09-27_01-0002.txt',\n",
      "     'KB_JB685_1910-03-04_01-0002.txt',\n",
      "     'KB_JB685_1910-08-01_01-0001.txt',\n",
      "     'KB_JB685_1911-02-23_01-0002.txt',\n",
      "     'KB_JB685_1911-08-12_01-0003.txt',\n",
      "     'KB_JB685_1911-11-20_01-0002.txt',\n",
      "     'KB_JB685_1913-12-27_01-0002.txt',\n",
      "     'KB_JB838_1900-08-12_01-00001.txt',\n",
      "     'KB_JB838_1900-11-24_01-00001.txt',\n",
      "     'KB_JB838_1901-05-08_01-00001.txt',\n",
      "     'KB_JB838_1901-05-23_01-00001.txt',\n",
      "     'KB_JB838_1901-05-25_01-00003.txt',\n",
      "     'KB_JB838_1901-06-27_01-00001.txt',\n",
      "     'KB_JB838_1901-06-30_01-00001.txt',\n",
      "     'KB_JB838_1901-10-06_01-00001.txt',\n",
      "     'KB_JB838_1902-04-29_01-00002.txt',\n",
      "     'KB_JB838_1902-11-15_01-00003.txt',\n",
      "     'KB_JB838_1903-05-14_01-00001.txt',\n",
      "     'KB_JB838_1904-07-03_01-00001.txt',\n",
      "     'KB_JB838_1904-08-27_01-00001.txt',\n",
      "     'KB_JB838_1905-05-12_01-00001.txt',\n",
      "     'KB_JB838_1905-07-14_01-00001.txt',\n",
      "     'KB_JB838_1905-07-20_01-00002.txt',\n",
      "     'KB_JB838_1906-03-12_01-00003.txt',\n",
      "     'KB_JB838_1906-04-26_01-00001.txt',\n",
      "     'KB_JB838_1906-07-13_01-00001.txt',\n",
      "     'KB_JB838_1906-08-23_01-00002.txt',\n",
      "     'KB_JB838_1907-04-10_01-00001.txt',\n",
      "     'KB_JB838_1908-05-12_01-00001.txt',\n",
      "     'KB_JB838_1908-06-15_01-00002.txt',\n",
      "     'KB_JB838_1908-10-20_01-00002.txt',\n",
      "     'KB_JB838_1909-05-04_01-00001.txt',\n",
      "     'KB_JB838_1909-09-28_01-00002.txt',\n",
      "     'KB_JB838_1911-09-07_01-00001.txt',\n",
      "     'KB_JB838_1911-09-09_01-00001.txt',\n",
      "     'KB_JB838_1911-09-16_01-00001.txt',\n",
      "     'KB_JB838_1911-09-16_01-00004.txt',\n",
      "     'KB_JB838_1912-06-01_01-00003.txt',\n",
      "     'KB_JB838_1912-08-18_01-00001.txt',\n",
      "     'KB_JB838_1912-10-29_01-00001.txt',\n",
      "     'KB_JB838_1912-11-07_01-00001.txt',\n",
      "     'KB_JB838_1913-08-27_01-00003.txt',\n",
      "     'KB_JB838_1914-03-25_01-00002.txt',\n",
      "     'KB_JB838_1921-05-28_01-00002.txt',\n",
      "     'KB_JB838_1922-08-24_01-00006.txt',\n",
      "     'KB_JB838_1922-09-17_01-00002.txt',\n",
      "     'KB_JB838_1922-12-11_01-00001.txt',\n",
      "     'KB_JB838_1923-08-01_01-00001.txt',\n",
      "     'KB_JB838_1924-03-12_01-00006.txt',\n",
      "     'KB_JB838_1924-03-31_01-00002.txt',\n",
      "     'KB_JB838_1924-08-20_01-00004.txt',\n",
      "     'KB_JB838_1924-10-29_01-00003.txt',\n",
      "     'KB_JB838_1924-11-19_01-00002.txt',\n",
      "     'KB_JB838_1924-11-30_01-00002.txt',\n",
      "     'KB_JB838_1924-12-01_01-00004.txt',\n",
      "     'KB_JB838_1924-12-02_01-00003.txt',\n",
      "     'KB_JB838_1924-12-03_01-00003.txt',\n",
      "     'KB_JB838_1925-01-26_01-00006.txt',\n",
      "     'KB_JB838_1925-02-17_01-00004.txt',\n",
      "     'KB_JB838_1925-03-05_01-00001.txt',\n",
      "     'KB_JB838_1925-06-22_01-00005.txt',\n",
      "     'KB_JB838_1925-06-24_01-00003.txt',\n",
      "     'KB_JB838_1925-06-25_01-00014.txt',\n",
      "     'KB_JB838_1925-07-17_01-00001.txt',\n",
      "     'KB_JB838_1925-09-30_01-00004.txt',\n",
      "     'KB_JB838_1925-10-01_01-00003.txt',\n",
      "     'KB_JB838_1925-10-26_01-00004.txt',\n",
      "     'KB_JB838_1925-10-29_01-00001.txt',\n",
      "     'KB_JB838_1925-11-14_01-00001.txt',\n",
      "     'KB_JB838_1925-12-30_01-00004.txt'],\n",
      " 1: ['KB_JB1051_1924-11-19_01-00002.txt',\n",
      "     'KB_JB1051_1925-07-19_01-00003.txt',\n",
      "     'KB_JB1051_1925-10-03_01-00004.txt',\n",
      "     'KB_JB421_1900-03-26_01-00001.txt',\n",
      "     'KB_JB421_1902-07-14_01-00002.txt',\n",
      "     'KB_JB421_1902-12-13_01-00001.txt',\n",
      "     'KB_JB421_1903-01-26_01-00003.txt',\n",
      "     'KB_JB421_1904-03-13_01-00006.txt',\n",
      "     'KB_JB421_1904-11-30_01-00003.txt',\n",
      "     'KB_JB421_1904-12-05_01-00002.txt',\n",
      "     'KB_JB421_1904-12-09_01-00002.txt',\n",
      "     'KB_JB421_1906-09-24_01-00002.txt',\n",
      "     'KB_JB421_1906-10-07_01-00001.txt',\n",
      "     'KB_JB421_1907-06-05_01-00003.txt',\n",
      "     'KB_JB421_1907-06-21_01-00002.txt',\n",
      "     'KB_JB421_1907-08-02_01-00002.txt',\n",
      "     'KB_JB421_1907-09-07_01-00002.txt',\n",
      "     'KB_JB421_1907-11-20_01-00003.txt',\n",
      "     'KB_JB421_1907-12-08_01-00001.txt',\n",
      "     'KB_JB421_1908-08-24_01-00001.txt',\n",
      "     'KB_JB421_1908-12-27_01-00002.txt',\n",
      "     'KB_JB421_1909-04-02_01-00002.txt',\n",
      "     'KB_JB421_1909-05-30_01-00002.txt',\n",
      "     'KB_JB421_1909-08-05_01-00003.txt',\n",
      "     'KB_JB421_1910-03-05_01-00002.txt',\n",
      "     'KB_JB421_1910-06-19_01-00001.txt',\n",
      "     'KB_JB421_1910-10-20_01-00003.txt',\n",
      "     'KB_JB421_1910-11-16_01-00002.txt',\n",
      "     'KB_JB421_1911-04-08_01-00003.txt',\n",
      "     'KB_JB421_1912-11-10_01-00001.txt',\n",
      "     'KB_JB421_1920-06-25_01-00001.txt',\n",
      "     'KB_JB421_1924-12-03_01-00002.txt',\n",
      "     'KB_JB421_1925-07-03_01-00001.txt',\n",
      "     'KB_JB427_1924-06-30_01-00002.txt',\n",
      "     'KB_JB427_1924-11-30_01-00001.txt',\n",
      "     'KB_JB427_1924-12-03_01-00003.txt',\n",
      "     'KB_JB427_1925-06-21_01-00002.txt',\n",
      "     'KB_JB427_1925-06-24_01-00002.txt',\n",
      "     'KB_JB427_1925-07-17_01-00002.txt',\n",
      "     'KB_JB427_1925-10-01_01-00002.txt',\n",
      "     'KB_JB427_1925-10-23_01-00001.txt',\n",
      "     'KB_JB427_1925-10-27_01-00001.txt',\n",
      "     'KB_JB427_1925-10-30_01-00001.txt',\n",
      "     'KB_JB427_1925-12-24_01-00003.txt',\n",
      "     'KB_JB555A_1915-05-04_01-00001.txt',\n",
      "     'KB_JB555_1900-05-13_01-00001.txt',\n",
      "     'KB_JB555_1900-05-13_01-00002.txt',\n",
      "     'KB_JB555_1900-07-23_01-00001.txt',\n",
      "     'KB_JB555_1900-10-08_01-00002.txt',\n",
      "     'KB_JB555_1900-10-23_01-00002.txt',\n",
      "     'KB_JB555_1901-08-05_01-00003.txt',\n",
      "     'KB_JB555_1902-09-22_01-00003.txt',\n",
      "     'KB_JB555_1904-01-23_01-00003.txt',\n",
      "     'KB_JB555_1904-11-14_01-00005.txt',\n",
      "     'KB_JB555_1904-12-21_01-00002.txt',\n",
      "     'KB_JB555_1905-08-18_01-00002.txt',\n",
      "     'KB_JB555_1907-01-17_01-00002.txt',\n",
      "     'KB_JB555_1907-12-11_01-00001.txt',\n",
      "     'KB_JB555_1908-02-05_01-00002.txt',\n",
      "     'KB_JB555_1908-06-17_01-00001.txt',\n",
      "     'KB_JB555_1908-09-30_01-00002.txt',\n",
      "     'KB_JB555_1908-12-14_01-00003.txt',\n",
      "     'KB_JB555_1911-01-23_01-00002.txt',\n",
      "     'KB_JB555_1911-09-10_01-00003.txt',\n",
      "     'KB_JB555_1913-04-16_01-00003.txt',\n",
      "     'KB_JB555_1913-05-08_01-00002.txt',\n",
      "     'KB_JB555_1913-05-27_01-00003.txt',\n",
      "     'KB_JB555_1913-08-15_01-00003.txt',\n",
      "     'KB_JB555_1914-01-04_01-00002.txt',\n",
      "     'KB_JB555_1914-05-29_01-00002.txt',\n",
      "     'KB_JB555_1922-08-22_01-00001.txt',\n",
      "     'KB_JB555_1922-09-25_01-00002.txt',\n",
      "     'KB_JB555_1923-07-20_01-00002.txt',\n",
      "     'KB_JB555_1924-11-13_01-00002.txt',\n",
      "     'KB_JB555_1924-11-30_01-00003.txt',\n",
      "     'KB_JB555_1924-12-03_01-00002.txt',\n",
      "     'KB_JB555_1925-05-21_01-00004.txt',\n",
      "     'KB_JB555_1925-06-21_01-00002.txt',\n",
      "     'KB_JB555_1925-09-30_01-00004.txt',\n",
      "     'KB_JB567_1900-04-22_01-00006.txt',\n",
      "     'KB_JB567_1900-07-14_01-00001.txt',\n",
      "     'KB_JB567_1901-09-01_01-00002.txt',\n",
      "     'KB_JB567_1902-10-02_01-00002.txt',\n",
      "     'KB_JB567_1904-04-18_01-00001.txt',\n",
      "     'KB_JB567_1904-07-09_01-00001.txt',\n",
      "     'KB_JB567_1906-03-18_01-00006.txt',\n",
      "     'KB_JB567_1906-06-11_01-00002.txt',\n",
      "     'KB_JB567_1906-08-27_01-00001.txt',\n",
      "     'KB_JB567_1907-09-18_01-00001.txt',\n",
      "     'KB_JB567_1909-10-01_01-00002.txt',\n",
      "     'KB_JB567_1910-02-24_01-00002.txt',\n",
      "     'KB_JB567_1910-05-28_01-00002.txt',\n",
      "     'KB_JB567_1911-04-27_01-00002.txt',\n",
      "     'KB_JB567_1911-08-12_01-00001.txt',\n",
      "     'KB_JB567_1911-09-07_01-00002.txt',\n",
      "     'KB_JB567_1912-11-10_01-00003.txt',\n",
      "     'KB_JB567_1913-03-22_01-00003.txt',\n",
      "     'KB_JB567_1913-03-30_01-00004.txt',\n",
      "     'KB_JB567_1913-06-18_01-00001.txt',\n",
      "     'KB_JB567_1913-08-27_01-00002.txt',\n",
      "     'KB_JB567_1921-01-27_01-00001.txt',\n",
      "     'KB_JB567_1923-05-25_01-00001.txt',\n",
      "     'KB_JB567_1923-07-15_01-00001.txt',\n",
      "     'KB_JB567_1924-06-23_01-00001.txt',\n",
      "     'KB_JB567_1924-07-01_01-00001.txt',\n",
      "     'KB_JB567_1924-09-12_01-00002.txt',\n",
      "     'KB_JB567_1925-05-21_01-00002.txt',\n",
      "     'KB_JB567_1925-06-21_01-00002.txt',\n",
      "     'KB_JB567_1925-06-24_01-00002.txt',\n",
      "     'KB_JB572_1900-01-08_01-00002.txt',\n",
      "     'KB_JB572_1900-03-16_01-00002.txt',\n",
      "     'KB_JB572_1900-04-19_01-00002.txt',\n",
      "     'KB_JB572_1900-04-23_01-00002.txt',\n",
      "     'KB_JB572_1900-06-16_01-00002.txt',\n",
      "     'KB_JB572_1900-06-19_01-00002.txt',\n",
      "     'KB_JB572_1900-06-19_01-00003.txt',\n",
      "     'KB_JB572_1900-07-03_01-00002.txt',\n",
      "     'KB_JB572_1900-10-12_01-00001.txt',\n",
      "     'KB_JB572_1901-02-26_01-00002.txt',\n",
      "     'KB_JB572_1901-05-25_01-00003.txt',\n",
      "     'KB_JB572_1901-06-24_01-00003.txt',\n",
      "     'KB_JB572_1901-12-26_01-00002.txt',\n",
      "     'KB_JB572_1902-02-21_01-00002.txt',\n",
      "     'KB_JB572_1902-09-03_01-00001.txt',\n",
      "     'KB_JB572_1902-09-03_01-00002.txt',\n",
      "     'KB_JB572_1903-01-28_01-00002.txt',\n",
      "     'KB_JB572_1903-02-15_01-00002.txt',\n",
      "     'KB_JB572_1903-06-14_01-00004.txt',\n",
      "     'KB_JB572_1903-07-08_01-00001.txt',\n",
      "     'KB_JB572_1903-08-02_01-00003.txt',\n",
      "     'KB_JB572_1903-08-16_01-00004.txt',\n",
      "     'KB_JB572_1903-11-09_01-00002.txt',\n",
      "     'KB_JB572_1904-03-08_01-00002.txt',\n",
      "     'KB_JB572_1904-07-04_01-00001.txt',\n",
      "     'KB_JB572_1904-07-08_01-00002.txt',\n",
      "     'KB_JB572_1904-07-30_01-00003.txt',\n",
      "     'KB_JB572_1904-08-23_01-00002.txt',\n",
      "     'KB_JB572_1904-10-24_01-00002.txt',\n",
      "     'KB_JB572_1905-03-29_01-00003.txt',\n",
      "     'KB_JB572_1905-04-14_01-00002.txt',\n",
      "     'KB_JB572_1905-07-03_01-00002.txt',\n",
      "     'KB_JB572_1905-07-16_01-00002.txt',\n",
      "     'KB_JB572_1905-08-28_01-00002.txt',\n",
      "     'KB_JB572_1905-08-30_01-00002.txt',\n",
      "     'KB_JB572_1906-07-10_01-00003.txt',\n",
      "     'KB_JB572_1906-07-21_01-00003.txt',\n",
      "     'KB_JB572_1906-10-30_01-00003.txt',\n",
      "     'KB_JB572_1907-04-30_01-00003.txt',\n",
      "     'KB_JB572_1907-11-05_01-00001.txt',\n",
      "     'KB_JB572_1907-11-30_01-00002.txt',\n",
      "     'KB_JB572_1908-05-16_01-00004.txt',\n",
      "     'KB_JB572_1908-10-20_01-00003.txt',\n",
      "     'KB_JB572_1909-01-29_01-00002.txt',\n",
      "     'KB_JB572_1909-02-12_01-00004.txt',\n",
      "     'KB_JB572_1909-07-14_01-00002.txt',\n",
      "     'KB_JB572_1909-12-03_01-00004.txt',\n",
      "     'KB_JB572_1910-02-25_01-00001.txt',\n",
      "     'KB_JB572_1911-05-12_01-00003.txt',\n",
      "     'KB_JB572_1912-01-19_01-00001.txt',\n",
      "     'KB_JB572_1912-02-05_01-00003.txt',\n",
      "     'KB_JB572_1912-06-08_01-00001.txt',\n",
      "     'KB_JB572_1912-10-15_01-00001.txt',\n",
      "     'KB_JB572_1912-10-29_01-00003.txt',\n",
      "     'KB_JB572_1913-03-18_01-00001.txt',\n",
      "     'KB_JB572_1913-05-21_01-00003.txt',\n",
      "     'KB_JB572_1913-06-16_01-00003.txt',\n",
      "     'KB_JB572_1914-01-29_01-00006.txt',\n",
      "     'KB_JB572_1920-03-08_01-00001.txt',\n",
      "     'KB_JB572_1921-09-11_01-00001.txt',\n",
      "     'KB_JB572_1922-09-23_01-00001.txt',\n",
      "     'KB_JB572_1922-12-19_01-00003.txt',\n",
      "     'KB_JB572_1923-03-01_01-00004.txt',\n",
      "     'KB_JB572_1923-10-01_01-00003.txt',\n",
      "     'KB_JB572_1924-07-20_01-00004.txt',\n",
      "     'KB_JB572_1924-08-14_01-00002.txt',\n",
      "     'KB_JB572_1924-12-03_01-00004.txt',\n",
      "     'KB_JB572_1925-05-21_01-00003.txt',\n",
      "     'KB_JB572_1925-12-06_01-00001.txt',\n",
      "     'KB_JB638_1900-05-15_01-00002.txt',\n",
      "     'KB_JB638_1900-05-29_01-00003.txt',\n",
      "     'KB_JB638_1900-07-07_01-00003.txt',\n",
      "     'KB_JB638_1900-12-19_01-00002.txt',\n",
      "     'KB_JB638_1901-07-23_01-00002.txt',\n",
      "     'KB_JB638_1901-07-29_01-00002.txt',\n",
      "     'KB_JB638_1903-08-18_01-00002.txt',\n",
      "     'KB_JB638_1904-02-29_02-00004.txt',\n",
      "     'KB_JB638_1905-03-11_01-00002.txt',\n",
      "     'KB_JB638_1905-03-18_02-00003.txt',\n",
      "     'KB_JB638_1905-04-25_02-00001.txt',\n",
      "     'KB_JB638_1906-07-21_01-00003.txt',\n",
      "     'KB_JB638_1906-08-24_01-00002.txt',\n",
      "     'KB_JB638_1908-05-08_02-00001.txt',\n",
      "     'KB_JB638_1908-11-05_01-00001.txt',\n",
      "     'KB_JB638_1909-07-13_01-00001.txt',\n",
      "     'KB_JB638_1910-04-12_01-00003.txt',\n",
      "     'KB_JB638_1910-10-13_02-00003.txt',\n",
      "     'KB_JB638_1912-02-10_01-00001.txt',\n",
      "     'KB_JB638_1913-01-07_02-00006.txt',\n",
      "     'KB_JB638_1913-02-15_01-00003.txt',\n",
      "     'KB_JB638_1913-04-07_01-00001.txt',\n",
      "     'KB_JB638_1913-05-09_01-00001.txt',\n",
      "     'KB_JB638_1913-08-16_01-00004.txt',\n",
      "     'KB_JB638_1913-10-11_02-00007.txt',\n",
      "     'KB_JB638_1913-12-27_02-00003.txt',\n",
      "     'KB_JB638_1914-02-03_01-00005.txt',\n",
      "     'KB_JB638_1914-05-25_02-00003.txt',\n",
      "     'KB_JB638_1914-07-15_02-00007.txt',\n",
      "     'KB_JB638_1921-04-23_01-00003.txt',\n",
      "     'KB_JB638_1922-04-23_01-00013.txt',\n",
      "     'KB_JB638_1922-08-02_01-00002.txt',\n",
      "     'KB_JB638_1923-02-17_01-00001.txt',\n",
      "     'KB_JB638_1923-08-02_01-00002.txt',\n",
      "     'KB_JB638_1924-02-03_01-00002.txt',\n",
      "     'KB_JB638_1925-01-15_01-00001.txt',\n",
      "     'KB_JB638_1925-11-22_01-00006.txt',\n",
      "     'KB_JB729_1900-04-15_01-00002.txt',\n",
      "     'KB_JB729_1900-08-07_01-00001.txt',\n",
      "     'KB_JB729_1901-10-25_01-00003.txt',\n",
      "     'KB_JB729_1902-09-04_01-00001.txt',\n",
      "     'KB_JB729_1903-05-01_01-00001.txt',\n",
      "     'KB_JB729_1904-04-18_01-00001.txt',\n",
      "     'KB_JB729_1904-07-09_01-00001.txt',\n",
      "     'KB_JB729_1906-05-05_01-00001.txt',\n",
      "     'KB_JB729_1908-06-15_01-00002.txt',\n",
      "     'KB_JB729_1909-10-01_01-00001.txt',\n",
      "     'KB_JB729_1910-02-24_01-00002.txt',\n",
      "     'KB_JB729_1910-05-28_01-00001.txt',\n",
      "     'KB_JB729_1911-04-27_01-00001.txt',\n",
      "     'KB_JB729_1911-09-07_01-00001.txt',\n",
      "     'KB_JB729_1913-03-22_01-00003.txt',\n",
      "     'KB_JB729_1913-03-30_01-00004.txt',\n",
      "     'KB_JB729_1913-08-27_01-00002.txt',\n",
      "     'KB_JB729_1922-09-24_01-00003.txt',\n",
      "     'KB_JB729_1923-02-21_01-00002.txt',\n",
      "     'KB_JB729_1923-06-19_01-00003.txt',\n",
      "     'KB_JB729_1924-01-20_01-00001.txt',\n",
      "     'KB_JB729_1924-02-21_01-00004.txt',\n",
      "     'KB_JB729_1924-04-05_01-00006.txt',\n",
      "     'KB_JB729_1924-06-23_01-00002.txt',\n",
      "     'KB_JB729_1924-07-13_01-00001.txt',\n",
      "     'KB_JB729_1924-10-03_01-00004.txt',\n",
      "     'KB_JB729_1924-12-02_01-00004.txt',\n",
      "     'KB_JB729_1925-05-21_01-00003.txt',\n",
      "     'KB_JB729_1925-06-21_01-00002.txt',\n",
      "     'KB_JB773_1920-03-27_01-00006.txt',\n",
      "     'KB_JB773_1920-06-28_01-00001.txt',\n",
      "     'KB_JB773_1923-07-02_01-00003.txt',\n",
      "     'KB_JB773_1923-08-01_01-00002.txt',\n",
      "     'KB_JB773_1923-09-22_01-00002.txt',\n",
      "     'KB_JB773_1924-11-13_01-00002.txt',\n",
      "     'KB_JB773_1925-05-22_01-00003.txt',\n",
      "     'KB_JB773_1925-06-22_01-00003.txt',\n",
      "     'KB_JB773_1925-06-24_01-00003.txt',\n",
      "     'KB_JB773_1925-07-20_01-00004.txt',\n",
      "     'KB_JB773_1925-09-30_01-00004.txt',\n",
      "     'KB_JB773_1925-10-03_01-00002.txt',\n",
      "     'KB_JB837_1901-09-02_01-00002.txt',\n",
      "     'KB_JB837_1903-03-09_01-00002.txt',\n",
      "     'KB_JB837_1903-08-29_01-00002.txt',\n",
      "     'KB_JB837_1904-07-06_01-00001.txt',\n",
      "     'KB_JB837_1905-07-15_01-00001.txt',\n",
      "     'KB_JB837_1905-08-28_01-00001.txt',\n",
      "     'KB_JB837_1911-01-21_01-00002.txt',\n",
      "     'KB_JB837_1911-04-27_01-00002.txt',\n",
      "     'KB_JB837_1911-04-28_01-00002.txt',\n",
      "     'KB_JB837_1912-01-18_01-00003.txt',\n",
      "     'KB_JB837_1912-08-10_01-00003.txt',\n",
      "     'KB_JB837_1912-11-09_01-00001.txt',\n",
      "     'KB_JB837_1913-11-13_01-00004.txt',\n",
      "     'KB_JB837_1914-03-29_01-00003.txt',\n",
      "     'KB_JB837_1914-04-21_01-00003.txt',\n",
      "     'KB_JB837_1920-09-19_01-00004.txt',\n",
      "     'KB_JB837_1921-07-10_01-00001.txt',\n",
      "     'KB_JB837_1921-08-02_01-00001.txt',\n",
      "     'KB_JB837_1922-02-05_01-00005.txt',\n",
      "     'KB_JB837_1923-02-27_01-00005.txt',\n",
      "     'KB_JB837_1923-08-01_01-00002.txt',\n",
      "     'KB_JB837_1923-12-29_01-00005.txt',\n",
      "     'KB_JB837_1924-06-17_01-00001.txt',\n",
      "     'KB_JB837_1924-11-13_01-00002.txt',\n",
      "     'KB_JB837_1925-02-11_01-00003.txt',\n",
      "     'KB_JB837_1925-05-21_01-00003.txt',\n",
      "     'KB_JB837_1925-06-27_01-00004.txt',\n",
      "     'KB_JB837_1925-07-17_01-00002.txt',\n",
      "     'KB_JB837_1925-07-19_01-00002.txt',\n",
      "     'KB_JB837_1925-09-30_01-00005.txt'],\n",
      " 2: ['KB_JB1051_1925-11-03_01-00004.txt',\n",
      "     'KB_JB421_1925-09-30_01-00003.txt',\n",
      "     'KB_JB427_1923-08-25_01-00004.txt',\n",
      "     'KB_JB427_1925-07-16_01-00005.txt',\n",
      "     'KB_JB555_1909-01-14_01-00005.txt',\n",
      "     'KB_JB555_1910-03-16_01-00005.txt',\n",
      "     'KB_JB567_1909-08-07_01-00003.txt',\n",
      "     'KB_JB567_1909-09-22_01-00003.txt',\n",
      "     'KB_JB567_1912-11-07_01-00003.txt',\n",
      "     'KB_JB567_1913-10-30_01-00005.txt',\n",
      "     'KB_JB567_1913-11-15_01-00005.txt',\n",
      "     'KB_JB567_1913-12-13_01-00005.txt',\n",
      "     'KB_JB567_1914-05-27_01-00005.txt',\n",
      "     'KB_JB567_1924-10-03_01-00003.txt',\n",
      "     'KB_JB567_1924-12-02_01-00003.txt',\n",
      "     'KB_JB638_1923-08-01_01-00004.txt',\n",
      "     'KB_JB638_1923-08-25_01-00004.txt',\n",
      "     'KB_JB729_1901-10-28_01-00003.txt',\n",
      "     'KB_JB729_1909-08-07_01-00003.txt',\n",
      "     'KB_JB729_1909-09-22_01-00003.txt',\n",
      "     'KB_JB729_1913-10-19_01-00003.txt',\n",
      "     'KB_JB729_1913-10-30_01-00005.txt',\n",
      "     'KB_JB729_1913-11-15_01-00005.txt',\n",
      "     'KB_JB729_1913-11-22_01-00005.txt',\n",
      "     'KB_JB729_1913-12-05_01-00005.txt',\n",
      "     'KB_JB729_1914-05-27_01-00005.txt',\n",
      "     'KB_JB729_1922-12-30_01-00002.txt',\n",
      "     'KB_JB837_1905-05-04_01-00003.txt',\n",
      "     'KB_JB837_1913-11-26_01-00004.txt',\n",
      "     'KB_JB837_1914-01-27_01-00003.txt',\n",
      "     'KB_JB837_1914-07-14_01-00005.txt']}\n"
     ]
    }
   ],
   "source": [
    "pprint(dict(clustering))"
   ]
  },
  {
   "cell_type": "markdown",
   "metadata": {},
   "source": [
    "## Visualiser les clusters"
   ]
  },
  {
   "cell_type": "markdown",
   "metadata": {},
   "source": [
    "### Réduire les vecteurs à 2 dimensions à l'aide de l'algorithme PCA\n",
    "Cette étape est nécessaire afin de visualiser les documents dans un espace 2D\n",
    "\n",
    "https://fr.wikipedia.org/wiki/Analyse_en_composantes_principales"
   ]
  },
  {
   "cell_type": "code",
   "execution_count": 101,
   "metadata": {},
   "outputs": [],
   "source": [
    "pca = PCA(n_components=2)\n",
    "reduced_vectors = pca.fit_transform(tfidf_vectors.toarray())"
   ]
  },
  {
   "cell_type": "code",
   "execution_count": 102,
   "metadata": {},
   "outputs": [
    {
     "data": {
      "text/plain": [
       "array([[-0.23428454, -0.01523859],\n",
       "       [-0.22000088, -0.0826276 ],\n",
       "       [-0.19262352,  0.15484259],\n",
       "       [-0.20811681,  0.27518622],\n",
       "       [-0.19560063, -0.04827123],\n",
       "       [-0.20176209, -0.04226592],\n",
       "       [-0.19515331, -0.05161738],\n",
       "       [-0.19064695,  0.05069587],\n",
       "       [-0.17290926,  0.05715027],\n",
       "       [-0.20069507,  0.03051198]])"
      ]
     },
     "execution_count": 102,
     "metadata": {},
     "output_type": "execute_result"
    }
   ],
   "source": [
    "reduced_vectors[:10]"
   ]
  },
  {
   "cell_type": "markdown",
   "metadata": {},
   "source": [
    "### Générer le plot"
   ]
  },
  {
   "cell_type": "code",
   "execution_count": 103,
   "metadata": {},
   "outputs": [
    {
     "data": {
      "text/plain": [
       "<matplotlib.legend.Legend at 0x272635dca30>"
      ]
     },
     "execution_count": 103,
     "metadata": {},
     "output_type": "execute_result"
    },
    {
     "data": {
      "image/png": "[encoded data removed]",
      "text/plain": [
       "<Figure size 1000x1000 with 1 Axes>"
      ]
     },
     "metadata": {},
     "output_type": "display_data"
    }
   ],
   "source": [
    "x_axis = reduced_vectors[:, 0]\n",
    "y_axis = reduced_vectors[:, 1]\n",
    "\n",
    "plt.figure(figsize=(10,10))\n",
    "scatter = plt.scatter(x_axis, y_axis, s=100, c=clusters)\n",
    "\n",
    "# Ajouter les centroïdes\n",
    "centroids = pca.transform(km_model.cluster_centers_)\n",
    "plt.scatter(centroids[:, 0], centroids[:, 1],  marker = \"x\", s=100, linewidths = 2, color='black')\n",
    "\n",
    "# Ajouter la légende\n",
    "plt.legend(handles=scatter.legend_elements()[0], labels=set(clusters), title=\"Clusters\")"
   ]
  }
 ],
 "metadata": {
  "kernelspec": {
   "display_name": "Python 3.10.7 64-bit",
   "language": "python",
   "name": "python3"
  },
  "language_info": {
   "codemirror_mode": {
    "name": "ipython",
    "version": 3
   },
   "file_extension": ".py",
   "mimetype": "text/x-python",
   "name": "python",
   "nbconvert_exporter": "python",
   "pygments_lexer": "ipython3",
   "version": "3.10.7"
  },
  "vscode": {
   "interpreter": {
    "hash": "369f2c481f4da34e4445cda3fffd2e751bd1c4d706f27375911949ba6bb62e1c"
   }
  }
 },
 "nbformat": 4,
 "nbformat_minor": 4
}
