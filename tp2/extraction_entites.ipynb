{
 "cells": [
  {
   "cell_type": "markdown",
   "metadata": {},
   "source": [
    "# Reconnaissance d'entités nommées avec SpaCy"
   ]
  },
  {
   "cell_type": "markdown",
   "metadata": {},
   "source": [
    "## Imports"
   ]
  },
  {
   "cell_type": "code",
   "execution_count": 1,
   "metadata": {},
   "outputs": [],
   "source": [
    "from collections import defaultdict\n",
    "import sys\n",
    "import spacy\n",
    "from spacy.lang.fr.examples import sentences"
   ]
  },
  {
   "cell_type": "code",
   "execution_count": 2,
   "metadata": {},
   "outputs": [],
   "source": [
    "nlp = spacy.load('fr_core_news_md')"
   ]
  },
  {
   "cell_type": "code",
   "execution_count": 5,
   "metadata": {},
   "outputs": [],
   "source": [
    "# Charger le texte\n",
    "n=9000\n",
    "text = open(\"../tp2/tmp/1966_clean.txt\", encoding='utf-8').read()[:n]"
   ]
  },
  {
   "cell_type": "markdown",
   "metadata": {},
   "source": [
    "## Lister les personnes les plus mentionnées dans le corpus"
   ]
  },
  {
   "cell_type": "code",
   "execution_count": 46,
   "metadata": {},
   "outputs": [
    {
     "name": "stdout",
     "output_type": "stream",
     "text": [
      "CPU times: total: 188 ms\n",
      "Wall time: 191 ms\n"
     ]
    }
   ],
   "source": [
    "%%time\n",
    "# Traiter le texte\n",
    "\n",
    "doc = nlp(text)"
   ]
  },
  {
   "cell_type": "code",
   "execution_count": 47,
   "metadata": {},
   "outputs": [],
   "source": [
    "# Compter les entités\n",
    "people = defaultdict(int)\n",
    "for ent in doc.ents:\n",
    "    if ent.label_ == \"PER\" and len(ent.text) > 3:\n",
    "        people[ent.text] += 1"
   ]
  },
  {
   "cell_type": "code",
   "execution_count": 48,
   "metadata": {},
   "outputs": [
    {
     "name": "stdout",
     "output_type": "stream",
     "text": [
      "hubert juin apparait 1 fois dans le corpus\n",
      "restlf apparait 1 fois dans le corpus\n",
      "jean ray apparait 1 fois dans le corpus\n",
      "balzac mérimée apparait 1 fois dans le corpus\n",
      "alberto savinio apparait 1 fois dans le corpus\n",
      "anglo saxons apparait 1 fois dans le corpus\n",
      "fols apparait 1 fois dans le corpus\n",
      "pieyre mandiargues apparait 1 fois dans le corpus\n",
      "jean louis vanham apparait 1 fois dans le corpus\n",
      "david srhelnert apparait 1 fois dans le corpus\n",
      "pasternak malakovski esscnine sintonov apparait 1 fois dans le corpus\n",
      "gulllevlc eisa triolet apparait 1 fois dans le corpus\n",
      "carlo bronn apparait 1 fois dans le corpus\n",
      "philippe delaby apparait 1 fois dans le corpus\n",
      "charles ligne apparait 1 fois dans le corpus\n",
      "père wallon bruxelles flamand favori apparait 1 fois dans le corpus\n",
      "prusse apparait 1 fois dans le corpus\n",
      "odllon apparait 1 fois dans le corpus\n",
      "john updike centaure apparait 1 fois dans le corpus\n",
      "john updike apparait 1 fois dans le corpus\n",
      "george caldwell professeur sciences lycée olinger apparait 1 fois dans le corpus\n",
      "bernard pingaud apparait 1 fois dans le corpus\n",
      "lau dryc apparait 1 fois dans le corpus\n",
      "anatole france salut apparait 1 fois dans le corpus\n",
      "reléguégarnison bonnes fées apparait 1 fois dans le corpus\n",
      "juliette hugo désespéré mort juliette apparait 1 fois dans le corpus\n",
      "juliette blanche lanvin apparait 1 fois dans le corpus\n",
      "juliette drouet apparait 1 fois dans le corpus\n",
      "chérie léopol dine apparait 1 fois dans le corpus\n",
      "alain apparait 1 fois dans le corpus\n",
      "valéry larbaud apparait 1 fois dans le corpus\n",
      "henri céard apparait 1 fois dans le corpus\n",
      "alfred vigny apparait 1 fois dans le corpus\n",
      "péguy aut apparait 1 fois dans le corpus\n"
     ]
    }
   ],
   "source": [
    "# Trier et imprimer\n",
    "\n",
    "sorted_people = sorted(people.items(), key=lambda kv: kv[1], reverse=True)\n",
    "\n",
    "for person, freq in sorted_people[:50]:\n",
    "    print(f\"{person} apparait {freq} fois dans le corpus\")"
   ]
  },
  {
   "cell_type": "markdown",
   "metadata": {},
   "source": [
    "## Lister les lieux (LOC) les plus mentionnées dans le corpus"
   ]
  },
  {
   "cell_type": "code",
   "execution_count": 39,
   "metadata": {},
   "outputs": [
    {
     "name": "stdout",
     "output_type": "stream",
     "text": [
      "CPU times: total: 141 ms\n",
      "Wall time: 148 ms\n"
     ]
    }
   ],
   "source": [
    "%%time\n",
    "# Traiter le texte\n",
    "\n",
    "doc = nlp(text)"
   ]
  },
  {
   "cell_type": "code",
   "execution_count": 40,
   "metadata": {},
   "outputs": [],
   "source": [
    "# Compter les entités\n",
    "location = defaultdict(int)\n",
    "for ent in doc.ents:\n",
    "    if ent.label_ == \"LOC\" and len(ent.text) > 3:\n",
    "        location[ent.text] += 1"
   ]
  },
  {
   "cell_type": "code",
   "execution_count": 41,
   "metadata": {},
   "outputs": [
    {
     "name": "stdout",
     "output_type": "stream",
     "text": [
      "mercure apparait 1 fois dans le corpus\n",
      "versailles apparait 1 fois dans le corpus\n",
      "paris apparait 1 fois dans le corpus\n",
      "besançon apparait 1 fois dans le corpus\n"
     ]
    }
   ],
   "source": [
    "# Trier et imprimer\n",
    "\n",
    "sorted_location = sorted(location.items(), key=lambda kv: kv[1], reverse=True)\n",
    "\n",
    "for entities, freq in sorted_location[:50]:\n",
    "    print(f\"{entities} apparait {freq} fois dans le corpus\")\n",
    "    "
   ]
  },
  {
   "cell_type": "markdown",
   "metadata": {},
   "source": [
    "## Lister les organisations les plus mentionnées dans le corpus"
   ]
  },
  {
   "cell_type": "code",
   "execution_count": 43,
   "metadata": {},
   "outputs": [
    {
     "name": "stdout",
     "output_type": "stream",
     "text": [
      "CPU times: total: 125 ms\n",
      "Wall time: 154 ms\n"
     ]
    }
   ],
   "source": [
    "%%time\n",
    "# Traiter le texte\n",
    "\n",
    "doc = nlp(text)"
   ]
  },
  {
   "cell_type": "code",
   "execution_count": 44,
   "metadata": {},
   "outputs": [],
   "source": [
    "# Compter les entités\n",
    "organisation = defaultdict(int)\n",
    "for ent in doc.ents:\n",
    "    if ent.label_ == \"ORG\" and len(ent.text) > 3:\n",
    "        organisation[ent.text] += 1"
   ]
  },
  {
   "cell_type": "code",
   "execution_count": 45,
   "metadata": {},
   "outputs": [
    {
     "name": "stdout",
     "output_type": "stream",
     "text": [
      "ismwj apparait 1 fois dans le corpus\n",
      "lutèce paris apparait 1 fois dans le corpus\n",
      "france fnçnibre académie apparait 1 fois dans le corpus\n",
      "europe soubise apparait 1 fois dans le corpus\n"
     ]
    }
   ],
   "source": [
    "# Trier et imprimer\n",
    "\n",
    "sorted_organisation = sorted(organisation.items(), key=lambda kv: kv[1], reverse=True)\n",
    "\n",
    "for orga, freq in sorted_organisation[:50]:\n",
    "    print(f\"{orga} apparait {freq} fois dans le corpus\")\n",
    "    "
   ]
  }
 ],
 "metadata": {
  "kernelspec": {
   "display_name": "Python 3.10.7 64-bit",
   "language": "python",
   "name": "python3"
  },
  "language_info": {
   "codemirror_mode": {
    "name": "ipython",
    "version": 3
   },
   "file_extension": ".py",
   "mimetype": "text/x-python",
   "name": "python",
   "nbconvert_exporter": "python",
   "pygments_lexer": "ipython3",
   "version": "3.10.7"
  },
  "vscode": {
   "interpreter": {
    "hash": "369f2c481f4da34e4445cda3fffd2e751bd1c4d706f27375911949ba6bb62e1c"
   }
  }
 },
 "nbformat": 4,
 "nbformat_minor": 4
}
