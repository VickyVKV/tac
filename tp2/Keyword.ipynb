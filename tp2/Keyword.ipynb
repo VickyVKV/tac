{
 "cells": [
  {
   "cell_type": "markdown",
   "metadata": {},
   "source": [
    "# Extraction de Keywords"
   ]
  },
  {
   "cell_type": "markdown",
   "metadata": {},
   "source": [
    "## Imports"
   ]
  },
  {
   "cell_type": "code",
   "execution_count": 8,
   "metadata": {},
   "outputs": [],
   "source": [
    "import os\n",
    "import yake"
   ]
  },
  {
   "cell_type": "markdown",
   "metadata": {},
   "source": [
    "## Extraire les mots clés du document 1966.txt"
   ]
  },
  {
   "cell_type": "code",
   "execution_count": 9,
   "metadata": {},
   "outputs": [
    {
     "data": {
      "text/plain": [
       "<yake.yake.KeywordExtractor at 0x25736d7bd60>"
      ]
     },
     "execution_count": 9,
     "metadata": {},
     "output_type": "execute_result"
    }
   ],
   "source": [
    "# Instantier l'extracteur de mots clés\n",
    "kw_extractor = yake.KeywordExtractor(lan=\"fr\", top=50)\n",
    "kw_extractor"
   ]
  },
  {
   "cell_type": "code",
   "execution_count": 21,
   "metadata": {},
   "outputs": [],
   "source": [
    "# Lister les Fichiers\n",
    "data_path = \"../tp2/tmp/\"\n",
    "files = os.listdir(data_path)"
   ]
  },
  {
   "cell_type": "code",
   "execution_count": 22,
   "metadata": {},
   "outputs": [
    {
     "data": {
      "text/plain": [
       "4"
      ]
     },
     "execution_count": 22,
     "metadata": {},
     "output_type": "execute_result"
    }
   ],
   "source": [
    "# Imprimer le nombre de fichiers identifiés\n",
    "len(files)"
   ]
  },
  {
   "cell_type": "code",
   "execution_count": 23,
   "metadata": {},
   "outputs": [
    {
     "data": {
      "text/plain": [
       "'1966.txt'"
      ]
     },
     "execution_count": 23,
     "metadata": {},
     "output_type": "execute_result"
    }
   ],
   "source": [
    "# Choisir un fichier\n",
    "this_file = files[1]\n",
    "this_file"
   ]
  },
  {
   "cell_type": "code",
   "execution_count": 24,
   "metadata": {},
   "outputs": [
    {
     "data": {
      "text/plain": [
       "\"A m ’ vî î‘ l ï ,> * v ,v '■ ’V > i* *. ;■ V, l'uw'1 !ï H.I'ISMWJ-;!-J., WW*'* L.UJJJU JEUDI 6 JANVIER 1966 - - - LE som 9 des Vignette de Ziegler pour les œuvres d'Hoffmann (1840) L À mode est aujourd'hui aux fantômes. Mais les auteurs n’ont pas attendu cette vogue, assez imprévue après les fantasmagories et divagations du romantisme, pour trouver la voie d’un fantastique réel, qui devait conduire de celui d’hier à celui d’aujourd’hui. Ceci est bien démontré par l’excellent et curieux recueil p\""
      ]
     },
     "execution_count": 24,
     "metadata": {},
     "output_type": "execute_result"
    }
   ],
   "source": [
    "# Récupérer le texte du fichier\n",
    "text = open(os.path.join(data_path, this_file), 'r', encoding='utf-8').read()\n",
    "text[:500]"
   ]
  },
  {
   "cell_type": "code",
   "execution_count": 25,
   "metadata": {},
   "outputs": [
    {
     "data": {
      "text/plain": [
       "[('Ecrire Agence Rossel', 4.350016554625113e-06),\n",
       " ('Liège Liège Liège', 9.753759502347517e-06),\n",
       " ('Tél', 1.0029473809242637e-05),\n",
       " ('Bruxelles', 1.2891034758235538e-05),\n",
       " ('rue', 2.3961397567853303e-05),\n",
       " ('Rossel', 2.520077013817441e-05),\n",
       " ('RUE ROYALE BRUXELLES', 2.8178993402284793e-05),\n",
       " ('Agence Rossel', 3.5463311403100554e-05),\n",
       " ('dem', 3.587459808192113e-05),\n",
       " ('Gand Gand Gand', 4.140125526753454e-05),\n",
       " ('Agence Rossel Bruxelles', 4.3989483085162146e-05),\n",
       " ('l’Agence Rossel', 4.5111446811398294e-05),\n",
       " ('brux', 4.796381303635659e-05),\n",
       " ('Prix', 4.965840817032814e-05),\n",
       " ('rue Royale Tél', 5.821485951366321e-05),\n",
       " ('Rue Royale', 5.985183872678162e-05),\n",
       " ('Brux Bourse Tél', 6.552879511101681e-05),\n",
       " ('rue Van', 6.98804234878852e-05),\n",
       " ('Van', 7.495172208187816e-05),\n",
       " ('ans', 7.877179352692091e-05),\n",
       " ('avenue Louise BRUXELLES', 8.191928337921316e-05),\n",
       " ('Ecrire', 8.401586000560888e-05),\n",
       " ('Bruxelles Waterloo Téléph', 8.93202365583097e-05),\n",
       " ('Bruxelles demande BONNE', 9.007480644081047e-05),\n",
       " ('Bruxelles centre demande', 9.097902496052486e-05),\n",
       " ('Gand Liège Liège', 9.985562844585098e-05),\n",
       " ('RUE ROYALE brux', 0.00010184719350741914),\n",
       " ('Société Bruxelles centre', 0.00010495246610920942),\n",
       " ('Grand Prix', 0.0001082431530157217),\n",
       " ('Bruxelles demande', 0.00011441247135506272),\n",
       " ('rue Van Artevelde', 0.00011459871790513393),\n",
       " ('Bruxelles Tél', 0.00011491065644799321),\n",
       " ('rue Berckmans Bruxelles', 0.00011696739280553434),\n",
       " ('RUE NEUVE Tél', 0.00011782671398775151),\n",
       " ('Gand Gand Liège', 0.0001202826770118018),\n",
       " ('Bruxelles Dem', 0.0001266074353732286),\n",
       " ('Louise Téléphone Bruxelles', 0.00012930018915064548),\n",
       " ('offre Agence Rossel', 0.0001376045201251253),\n",
       " ('Téléph', 0.00014089572626264053),\n",
       " ('Liège Liège', 0.0001433213889890888),\n",
       " ('demande', 0.000149281432504308),\n",
       " ('Bruxelles cherche JNE', 0.00015076798117813223),\n",
       " ('bon', 0.00015812298557274886),\n",
       " ('Soir', 0.00016103278920782642),\n",
       " ('Ecrire Agence', 0.00016203955950951137),\n",
       " ('Bruxelles demande DESSINATEUR', 0.00016288517264648138),\n",
       " ('Bruxelles engage', 0.00016984474027768564),\n",
       " ('Ecr', 0.00017526156849191057),\n",
       " ('jours', 0.0001767140059205376),\n",
       " ('Bruxelles Centre offre', 0.00018285593463442462)]"
      ]
     },
     "execution_count": 25,
     "metadata": {},
     "output_type": "execute_result"
    }
   ],
   "source": [
    "# Extraire les mots clés de ce texte\n",
    "keywords = kw_extractor.extract_keywords(text)\n",
    "keywords"
   ]
  },
  {
   "cell_type": "code",
   "execution_count": 26,
   "metadata": {},
   "outputs": [
    {
     "data": {
      "text/plain": [
       "['Agence Rossel',\n",
       " 'l’Agence Rossel',\n",
       " 'Rue Royale',\n",
       " 'rue Van',\n",
       " 'Grand Prix',\n",
       " 'Bruxelles demande',\n",
       " 'Bruxelles Tél',\n",
       " 'Bruxelles Dem',\n",
       " 'Liège Liège',\n",
       " 'Ecrire Agence',\n",
       " 'Bruxelles engage']"
      ]
     },
     "execution_count": 26,
     "metadata": {},
     "output_type": "execute_result"
    }
   ],
   "source": [
    "# Ne garder que les bigrammes\n",
    "kept = []\n",
    "for kw, score in keywords:\n",
    "    words = kw.split()\n",
    "    if len(words) == 2:\n",
    "        kept.append(kw)\n",
    "kept"
   ]
  },
  {
   "cell_type": "markdown",
   "metadata": {},
   "source": [
    "## Même opération mais sur tous les documents"
   ]
  },
  {
   "cell_type": "code",
   "execution_count": 27,
   "metadata": {},
   "outputs": [
    {
     "name": "stdout",
     "output_type": "stream",
     "text": [
      "KB_JB838_1966-01-06_01-00009.txt mentions these keywords: Anne Richter, Album Hugo, Victor Hugo, Savinio d’une, d’une vie, Hugo fut, Initiales Inversées...\n",
      "KB_JB838_1966-01-08_01-00019.txt mentions these keywords: RICHARD Concessionnaire, Concessionnaire CITROËN, vendeurs S'adr, CITROËN engage, Grip Tab, Agence Rossel, curriculum vltae, Employée bilingue, JEUNE EMPLOYE, l’Agence Rossel...\n",
      "KB_JB838_1966-01-11_01-00006.txt mentions these keywords: Abdon CHAPEL, MONSIEUR Willy, MONSIEUR Abdon, Willy HOPCHET, MADAME VEUVE, Petrus Segers, Louis Segers, van STEENBERGE, Madame van, service funèbre, Monsieur Albert, faire part, VAN den...\n",
      "KB_JB838_1966-01-22_01-00010.txt mentions these keywords: Van Looy, Noël Van, Van Clooster, Grand Prix, samedi soir, Sammy Miller, Rik Van, Madame Gustave, Van Tongerloo, faire part, Van Daele, clubs champions, Avenue Van...\n",
      "KB_JB838_1966-01-22_01-00023.txt mentions these keywords: l’Agence Rossel, Agence Rossel, Faire offre, ANS MAXIMUM, pouvez FACILEMENT, Tapis Tournai, Tapis percé, Lefèvre Brux, Rossel num, êtes travailleur, UNIVERSAL SHOE...\n",
      "KB_JB838_1966-01-25_01-00013.txt mentions these keywords: Marten Toonder, Belle maison, belle villa, Maison rapp, Villa nve...\n",
      "KB_JB838_1966-01-28_01-00018.txt mentions these keywords: l’Agence Rossel, curriculum vitae, BILINGUE PARFAIT, JEUNE EMPLOYE, Age maximum, Faire offre, REPRESENTANT bilingue, ans Bilingue, BILINGUES PARFAITS, BUREAU BILINGUES, rue Archimède...\n",
      "KB_JB838_1966-01-29_01-00013.txt mentions these keywords: som SAMEDI, collection Afghanistan, CAFE TURC, Arabika Medahen, COMMUNICATION DIRECTE, AMATEURS D’ART, D’ART Visitez, Visitez L’EXPOSITION, L’EXPOSITION VENTE, terres d’Orient, riches collections, collections d’antiquités, spécialités chinoises, porcelaines fines, céramiques d’Ispahan, lanternes chinoises, café turc, soieries délicates, vanneries pittoresques, cuivres flamboyants, bois sculptés, perles d’Iran, amples kimonos, GOURMETS SPECIALITESiFaités...\n",
      "KB_JB838_1966-01-29_01-00016.txt mentions these keywords: New York, SOIR SAMEDI, JANVIER Fermeté, tonne longue, CHANGES VENDREDI, FINANCE INDUSTRIE, Banque Eur, Cour. dan, FONDS FIDUCEM...\n",
      "KB_JB838_1966-02-10_01-00001.txt mentions these keywords: mercredi matin, roi Albert, roi Baudouin, Manufacture royale, AGENCE ROSSEL, jeudi matin, MESSAGE ROYAL, milieux politiques...\n",
      "KB_JB838_1966-02-12_01-00019.txt mentions these keywords: beaux terrains, TERRAIN VILLA, VENDRE TERRAINS, parking gratuit, faç Tél...\n",
      "KB_JB838_1966-02-13_01-00001.txt mentions these keywords: CHEQUES POSTAUX, Soir Illustré, POSTAUX PUBLICITE, ministre d’Etat, L’agence Tass, MISS BRUXELLES, LUNDI MATIN, AGENCE ROSSEL, samedi matin...\n",
      "KB_JB838_1966-02-16_01-00006.txt mentions these keywords: GEMINI VIII, rue Royale, l’école Chazal, SOIR MERCREDI, l’activité solaire, soviétique n’est, Andrei Siniavski, satellite français...\n",
      "KB_JB838_1966-02-26_01-00002.txt mentions these keywords: Jaques Dalcroze, charges salariales, niveau général, dis prix, Adolphe Appia, Affaires économiques, hausse rapide...\n",
      "KB_JB838_1966-02-27_01-00002.txt mentions these keywords: presse belge, étudiants flamands, comité national, Dernière Heure, parti socialiste, campagne d’été, d’été 1965-1966...\n",
      "KB_JB838_1966-03-01_01-00020.txt mentions these keywords: bons gages, Dem. fem, l’Agence Rossel, Agence Rossel, som MARDI, Bruxelles Dem, Bar dem, cse santé, CENTRE BRUXELLES...\n",
      "KB_JB838_1966-03-05_01-00024.txt mentions these keywords: l’Agence Rossel, Faire offre, curriculum vitae, gaz naturel, AGENCE ROSSEL, DACTYLO BILINGUE, Ecrire Agenc, JEUNE EMPLOYE, rsxsssxs sxssssss, sxssssss xsxxssss, xsxxssss STENO-DACTYLO, EMPLOYE DEBUTANT...\n",
      "KB_JB838_1966-03-16_01-00007.txt mentions these keywords: Colette RENARD, ronricnc M'imn, général Suharto, Jeune Chambre, Conseil provincial, Jeune barreau, Chambre économique, crédits supplémentaires, cours d’une, métro bruxellois, directeur général, l'agglomération bruxelloise, Raymond Materne, Bruxelles Mardi...\n",
      "KB_JB838_1966-03-23_01-00014.txt mentions these keywords: Colon Colon, SOIR Bourse, Rand Mines, Canadian Pétrofina, Sub Nigel, Fds Rtos, Tendance indécise, SNCB 59-69, Nigel Sub, déduire Emp, Can Pac...\n",
      "KB_JB838_1966-03-24_01-00015.txt mentions these keywords: Liège Liège, Colon Colon, SOIR MERCREDI, Gand Gand, CADG CADG, Gand Liège, EAM EAM, 62-82 Emp, Rand Mines, COURS PRECED...\n",
      "KB_JB838_1966-03-25_01-00021.txt mentions these keywords: ler ler, app. mod, Gestion Immobll, Lux. app, Quartier Louise...\n",
      "KB_JB838_1966-03-25_01-00026.txt mentions these keywords: IMMOBILIER Poe, Bar dem, dames dem, emploi stable, DAMES demande...\n",
      "KB_JB838_1966-03-26_01-00007.txt mentions these keywords: LISTE COMPLETE, Vendredi soir, assistance technique, conseil communal, GRAND AIR, ORDRE NUMERIQUE, d’un point, NUMEROS GAGNANTS, GAGNANTS CLASSES, d’une politique, connaissent présentement, assistance politique, s’est réuni, point commune, réuni vendredi...\n",
      "KB_JB838_1966-03-26_01-00011.txt mentions these keywords: Musique légère, DEUXIEME CHAINE, Programme varié, DEUXIEME PROGRAMME, Home Service, Concert Jean, Musique concertante, TROISIEME PROGRAMME, Disques demandés, Grande musique, Musique radio...\n",
      "KB_JB838_1966-04-02_01-00005.txt mentions these keywords: Nicolas Alfonso, Walter Schellenberg, Thelonius Monk, Jean Chevrier, QUART D'HEURE, jeune femme, Commandement allemand...\n",
      "KB_JB838_1966-04-09_01-00012.txt mentions these keywords: Philips Petroleum, bénéfice net, Royal Dutch, Haute Autorité, gaz naturel, groupe Philips, British Petroleum, SOIR SAMEDI, Philips s’est, Whitehall Petroleum...\n",
      "KB_JB838_1966-04-10_01-00027.txt mentions these keywords: Bruxelles engage, l’Agence Rossel, AMCEL EUROPE, Bruxelles demande, jeune femme, Importante Société, Agence Rossel, Faire offre, IMPORTANTE FIRME, BONNE VENDEUSE, AMCEL AMCEL, curriculum vitae...\n",
      "KB_JB838_1966-04-13_01-00015.txt mentions these keywords: IOO IOO, COURS COURS, Angola Dla, Marché Indécis, RTT RTT, TITRES COURS, Rand Mines, SOIR Bourse, COURS PRECED...\n",
      "KB_JB838_1966-04-14_01-00016.txt mentions these keywords: RONSON COMET, louer Bureaux, belle villa, mais. hab, rue Royale...\n",
      "KB_JB838_1966-04-16_01-00014.txt mentions these keywords: francs belges, Société générale, Société Belge, prêts personnels, second semestre, crédit hypothécaire, l’Union Minière, bénéfice net, Wall Street, Royal Dutch...\n",
      "KB_JB838_1966-04-16_01-00017.txt mentions these keywords: unel tnportel, Cours principaux, Nouv cours, Tél vis, maz cour, lel Norvège...\n",
      "KB_JB838_1966-04-21_01-00030.txt mentions these keywords: l’Agence Rossel, haut prix, Industriels FIAT, mobiliers TéL, PEINTURES Tél, Véhicules Industriels, bas prix...\n",
      "KB_JB838_1966-05-18_01-00008.txt mentions these keywords: West Stde, Stde Stoty, BRUXELLES-CENTRE AMBASSADOR, Stoty ena, THEATRE NATIONAL, THEATRE FLAMAND, DEUXIEME CHAINE, THEATRES Mercredi, som MERCREDI, Claude Volter, Théâtre National, Mary Popplns, Rossana Podesta...\n",
      "KB_JB838_1966-05-21_01-00004.txt mentions these keywords: habitant rue, domicilié rue, d’un vol, cours d’une, DRAME d’Epinoish, rue Vanquelve, police belge, rue Pierre...\n",
      "KB_JB838_1966-05-21_01-00028.txt mentions these keywords: mascotte Araline, stations Aral, meubles anciens, mobiliers Tél., rue Duquesnoy, service Aral, BRUXELLES MEUBLES, objets anciens...\n",
      "KB_JB838_1966-05-24_01-00023.txt mentions these keywords: bons gages, bon salaire, servante int, Dem. fem, Bons salaires, dames dem...\n",
      "KB_JB838_1966-05-29_01-00013.txt mentions these keywords: course Prix, Prix Orchid, SOIR Vau, Van Biervliet, Prix Grand, Mosa Standard, Van Parijs, grand bassin...\n",
      "KB_JB838_1966-06-08_01-00007.txt mentions these keywords: Alfonso Vella, jeune femme, président Capelle, Josette Balthazar, Louis Draye, Hélène Saenen, président demande, Vella vint, Beul répond...\n",
      "KB_JB838_1966-06-08_01-00026.txt mentions these keywords: TOIIB Dll, Dll MONDE, PROBLEMES SEFTACENT, Déménag. matér, MONDE PRETS, cse santé, SOIR FAITES...\n",
      "KB_JB838_1966-06-16_01-00010.txt mentions these keywords: Van Laere, constructeur américain, dernier tour, Van Butsele, course fut, COURSE Ford, fut Ferrari, VAN ESPEN, Midi Libre, SIMPLE MESSIEURS, mercredi soir...\n",
      "KB_JB838_1966-06-17_01-00002.txt mentions these keywords: Marché commun, statu quo, NOTES PARISWNto, problème allemand, SOIR VENDREDI, l’Union soviétique, Gaulle serait, nouvelle politique, croissance économique...\n",
      "KB_JB838_1966-06-18_01-00028.txt mentions these keywords: Serv. partlcul, PHARE demande, LIVREUR Serv., Bon sal, cse santé, Bon salaire, l’Agence Rossel, demande BON, servante int...\n",
      "KB_JB838_1966-06-22_01-00025.txt mentions these keywords: BMW Standing, Acti îjeti, Opel Rek, bon état, asÆ ÀÇRî, evr ïïi’a, Bas prix, CHRYSLER NEW, faux plafonds, Opel Coupé, DATION liroit, Prix Intér...\n",
      "KB_JB838_1966-06-25_01-00021.txt mentions these keywords: Grande Source, Agence Rossel, l’Agence Rossel, Vittel Grande, IMPORTANTE SOCIETE, curriculum vitae...\n",
      "KB_JB838_1966-07-10_01-00004.txt mentions these keywords: grièvement blessé, voiture conduite, demeurant rue, Samedi soir, sérieusement blessé, rue Blanche, collision s’est, vendredi matin...\n",
      "KB_JB838_1966-07-12_01-00017.txt mentions these keywords: l’Agence Rossel, Agence Rossel, dactylo bilingue, Faire offre, JEUNE EMPLOYE, EMPLOYE BILINGUE, Bruxelles engage, AVENUE LOUISE, Bruxelles Ecrire, Magn. app...\n",
      "KB_JB838_1966-07-15_01-00004.txt mentions these keywords: FLAMANTS ROSES, Jean Petit, Deftinge Tondis, jeune homme, jeudi matin, jeunes filles, jeune fille, collision s'est, jeune femme...\n",
      "KB_JB838_1966-07-17_01-00022.txt mentions these keywords: curriculum vitae, ussom DIMANCHE, Air comprimé, I’AGENCE ROSSEL, Importante SOCIETE, JEUNES EMPLOYEES, Agence Rossel, ENGINEERS for...\n",
      "KB_JB838_1966-07-23_01-00005.txt mentions these keywords: l’Opus Dei, luit pjï, quitté unt-Mart, d’une nouvelle, l’Optts Dei, d’un théâtre, chanson française, Opus Dei, FRANÇOISE SAGAN, petit théâtre...\n",
      "KB_JB838_1966-07-24_01-00009.txt mentions these keywords: joueurs argentins, l’arbitre allemand, allemand Kreitlein, prochaine Coupe, joueurs allemands, but hongrois, joueur Rattin...\n"
     ]
    }
   ],
   "source": [
    "data_path = \"../tp2/tmp/txt\"\n",
    "files = os.listdir(data_path)\n",
    "for f in sorted(files)[:50]:\n",
    "    text = open(os.path.join(data_path, f), 'r', encoding='utf-8').read()\n",
    "    keywords = kw_extractor.extract_keywords(text)\n",
    "    kept = []\n",
    "    for kw, score in keywords:\n",
    "        words = kw.split()\n",
    "        if len(words) == 2:\n",
    "            kept.append(kw)\n",
    "    print(f\"{f} mentions these keywords: {', '.join(kept)}...\")"
   ]
  }
 ],
 "metadata": {
  "kernelspec": {
   "display_name": "Python 3.10.7 64-bit",
   "language": "python",
   "name": "python3"
  },
  "language_info": {
   "codemirror_mode": {
    "name": "ipython",
    "version": 3
   },
   "file_extension": ".py",
   "mimetype": "text/x-python",
   "name": "python",
   "nbconvert_exporter": "python",
   "pygments_lexer": "ipython3",
   "version": "3.10.7"
  },
  "vscode": {
   "interpreter": {
    "hash": "369f2c481f4da34e4445cda3fffd2e751bd1c4d706f27375911949ba6bb62e1c"
   }
  }
 },
 "nbformat": 4,
 "nbformat_minor": 4
}
