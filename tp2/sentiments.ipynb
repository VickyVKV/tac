{
 "cells": [
  {
   "cell_type": "markdown",
   "metadata": {},
   "source": [
    "# Sentiment analysis avec Textblob-FR"
   ]
  },
  {
   "cell_type": "markdown",
   "metadata": {},
   "source": [
    "Documentation: https://textblob.readthedocs.io/en/dev/"
   ]
  },
  {
   "cell_type": "markdown",
   "metadata": {},
   "source": [
    "## Imports"
   ]
  },
  {
   "cell_type": "code",
   "execution_count": 1,
   "metadata": {},
   "outputs": [],
   "source": [
    "import sys\n",
    "from textblob import Blobber\n",
    "from textblob_fr import PatternTagger, PatternAnalyzer"
   ]
  },
  {
   "cell_type": "markdown",
   "metadata": {},
   "source": [
    "## Fonction"
   ]
  },
  {
   "cell_type": "code",
   "execution_count": 2,
   "metadata": {},
   "outputs": [],
   "source": [
    "tb = Blobber(pos_tagger=PatternTagger(), analyzer=PatternAnalyzer())\n",
    "\n",
    "def get_sentiment(input_text):\n",
    "    blob = tb(input_text)\n",
    "    polarity, subjectivity = blob.sentiment\n",
    "    polarity_perc = f\"{100*abs(polarity):.0f}\"\n",
    "    subjectivity_perc = f\"{100*subjectivity:.0f}\"\n",
    "    if polarity > 0:\n",
    "        polarity_str = f\"{polarity_perc}% positive\"\n",
    "    elif polarity < 0:\n",
    "        polarity_str = f\"{polarity_perc}% negative\"\n",
    "    else:\n",
    "        polarity_str = \"neutral\"\n",
    "    if subjectivity > 0:\n",
    "        subjectivity_str = f\"{subjectivity}% subjective\"\n",
    "    else:\n",
    "        subjectivity_str = \"perfectly objective\"\n",
    "    print(f\"This text is {polarity_str} and {subjectivity_str}.\")"
   ]
  },
  {
   "cell_type": "markdown",
   "metadata": {},
   "source": [
    "## Analyser le sentiment d'une phrase"
   ]
  },
  {
   "cell_type": "code",
   "execution_count": 3,
   "metadata": {
    "tags": []
   },
   "outputs": [
    {
     "name": "stdout",
     "output_type": "stream",
     "text": [
      "This text is 11% positive and 0.2% subjective.\n"
     ]
    }
   ],
   "source": [
    "get_sentiment(\"C’est une argumentation qui n’a pas convaincu les salariés, et c’est pourquoi, pour la première fois depuis 1958, les grèves coïncident dans le secteur privé et dans le secteur public.\")"
   ]
  },
  {
   "cell_type": "code",
   "execution_count": 4,
   "metadata": {
    "tags": []
   },
   "outputs": [
    {
     "name": "stdout",
     "output_type": "stream",
     "text": [
      "This text is 18% positive and 0.1% subjective.\n"
     ]
    }
   ],
   "source": [
    "get_sentiment(\"M. Vermay, au cours d’une allocution préliminaire, a salué le Prince et fait ressortir l'importance du progrès scientifique et technologique dans révolution sociale actuelle, progrès qui prend une allure accélérée.\")"
   ]
  },
  {
   "cell_type": "code",
   "execution_count": 5,
   "metadata": {},
   "outputs": [
    {
     "name": "stdout",
     "output_type": "stream",
     "text": [
      "This text is neutral and 0.2% subjective.\n"
     ]
    }
   ],
   "source": [
    "get_sentiment(\"Est-ce réparer une faute que de se cloîtrer dans ses murs et de se dérober au bien qu’on pourrait faire ?\")"
   ]
  },
  {
   "cell_type": "code",
   "execution_count": 6,
   "metadata": {},
   "outputs": [
    {
     "name": "stdout",
     "output_type": "stream",
     "text": [
      "This text is 31% positive and 0.33% subjective.\n"
     ]
    }
   ],
   "source": [
    "get_sentiment(\"Maison import - export engage d'urgence REPRESENTANTS Ire force en autonome, commissions très importantes, prix sans concurrence, pour visiter grand magasin rayons multiples, grossistes alimentation, grossistes électricité, domestique.\")"
   ]
  },
  {
   "cell_type": "code",
   "execution_count": 7,
   "metadata": {},
   "outputs": [
    {
     "name": "stdout",
     "output_type": "stream",
     "text": [
      "This text is neutral and 0.15000000000000002% subjective.\n"
     ]
    }
   ],
   "source": [
    "get_sentiment(\"Elle a été délibérément réduite par lui à une bureaucratie vieillissante — «encore en possession de beaucoup de fromages », nous souffle-t-on\")"
   ]
  },
  {
   "cell_type": "code",
   "execution_count": 8,
   "metadata": {},
   "outputs": [
    {
     "name": "stdout",
     "output_type": "stream",
     "text": [
      "This text is 10% positive and 0.1% subjective.\n"
     ]
    }
   ],
   "source": [
    "get_sentiment(\"Le total de la population des régions-problèmes et des sites avantageux s'élève à 1.550.062 pour la Flandre contre 1.816.227 pour la Wallonie.\")"
   ]
  },
  {
   "cell_type": "code",
   "execution_count": 9,
   "metadata": {},
   "outputs": [
    {
     "name": "stdout",
     "output_type": "stream",
     "text": [
      "This text is 19% positive and 0.15000000000000002% subjective.\n"
     ]
    }
   ],
   "source": [
    "get_sentiment(\"En dépit de votre expérience et de vos “expériences” précédentes vous trouverez chez C&A, le spécialiste du prêt-à-porter, un vaste choix de grandes tailles, en costumes, pardessus, vestes sport, imperméables et pantalons.\")"
   ]
  },
  {
   "cell_type": "code",
   "execution_count": 10,
   "metadata": {},
   "outputs": [
    {
     "name": "stdout",
     "output_type": "stream",
     "text": [
      "This text is 21% positive and 0.325% subjective.\n"
     ]
    }
   ],
   "source": [
    "get_sentiment(\"L’autopsie ordonnée par le parquet a révélé que le jeune homme souffrait d’une malformation cardiaque qui est certainement à l’origine du décès.\")"
   ]
  },
  {
   "cell_type": "code",
   "execution_count": 11,
   "metadata": {},
   "outputs": [
    {
     "name": "stdout",
     "output_type": "stream",
     "text": [
      "This text is 18% positive and 0.15% subjective.\n"
     ]
    }
   ],
   "source": [
    "get_sentiment(\"Bah! Ça ne fera jamais qu’un crime de plus qui restera impuni, pense-t-on, peut-être, dans certains milieux irresponsables.\")"
   ]
  },
  {
   "cell_type": "code",
   "execution_count": 12,
   "metadata": {},
   "outputs": [
    {
     "name": "stdout",
     "output_type": "stream",
     "text": [
      "This text is neutral and perfectly objective.\n"
     ]
    }
   ],
   "source": [
    "get_sentiment(\"Et maintenant que nous savons comment nous armer pour le vaincre, décrivons mieux notre futur adversaire.\")"
   ]
  }
 ],
 "metadata": {
  "kernelspec": {
   "display_name": "Python 3.10.7 64-bit",
   "language": "python",
   "name": "python3"
  },
  "language_info": {
   "codemirror_mode": {
    "name": "ipython",
    "version": 3
   },
   "file_extension": ".py",
   "mimetype": "text/x-python",
   "name": "python",
   "nbconvert_exporter": "python",
   "pygments_lexer": "ipython3",
   "version": "3.10.7"
  },
  "vscode": {
   "interpreter": {
    "hash": "369f2c481f4da34e4445cda3fffd2e751bd1c4d706f27375911949ba6bb62e1c"
   }
  }
 },
 "nbformat": 4,
 "nbformat_minor": 4
}
